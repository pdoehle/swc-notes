{
 "cells": [
  {
   "cell_type": "markdown",
   "metadata": {},
   "source": [
    "# Lesson 05 - Libraries"
   ]
  },
  {
   "cell_type": "markdown",
   "metadata": {},
   "source": [
    "## Questions:\n",
    "- How can I use software that other people have written?\n",
    "- How can I find out what that software does?\n",
    "\n",
    "## Objectives\n",
    "- Explain what software libraries are and why programmers create and use them.\n",
    "- Write programs that import and use modules from Python's standard library.\n",
    "- Find and read documentation for the standard library interactively."
   ]
  },
  {
   "cell_type": "markdown",
   "metadata": {},
   "source": [
    "## Expanding Python's Capabilities\n",
    "- A *library* is a collection of code that we can import into our environment to expand Python's base functionalities.\n",
    "- Libraries contain functions and constants that will save us time coding from scratch.\n",
    "- The contents of a library should be related, but there is no way to enforce this convention.\n",
    "- Python already comes with the [standard library](https://docs.python.org/3/library/) which gives it a lot of functionality.\n",
    "- Single files within a library are called *modules*.\n",
    "- We typically load only the modules we need for our program.\n",
    "- Other libraries/modules like [NumPy](https://numpy.org/), [math](https://docs.python.org/3/library/math.html) (part of the standard library), and [Pandas](https://pandas.pydata.org/) give us extra tools for working with math functions and data.\n",
    "- You can find many other libraries at the [Python Package Index (PyPI)](https://pypi.org/)."
   ]
  },
  {
   "cell_type": "markdown",
   "metadata": {},
   "source": [
    "## Importing a Module\n",
    "- Use `import` to load a module into your program.\n",
    "- Python uses dot notation (`.`) to indicate something belongs to something else.\n",
    "- To use functions in the module, type `module_name.function_name`."
   ]
  },
  {
   "cell_type": "code",
   "execution_count": null,
   "metadata": {
    "tags": []
   },
   "outputs": [],
   "source": [
    "import math\n",
    "\n",
    "print('Pi is', math.pi)\n",
    "print('cos(pi) is', math.cos(math.pi))"
   ]
  },
  {
   "cell_type": "markdown",
   "metadata": {},
   "source": [
    "## Getting Help\n",
    "- You can use `help()` to learn about the contents of a module."
   ]
  },
  {
   "cell_type": "code",
   "execution_count": null,
   "metadata": {
    "tags": []
   },
   "outputs": [],
   "source": [
    "help(math)"
   ]
  },
  {
   "cell_type": "markdown",
   "metadata": {},
   "source": [
    "# Module Shorthand Conventions\n",
    "- We can import specific items from a module.\n",
    "- This way we don't need to always type the module name."
   ]
  },
  {
   "cell_type": "code",
   "execution_count": null,
   "metadata": {
    "tags": []
   },
   "outputs": [],
   "source": [
    "from math import cos, pi\n",
    "\n",
    "print('cos(pi) is', cos(pi))"
   ]
  },
  {
   "cell_type": "markdown",
   "metadata": {},
   "source": [
    "- You can also create an alias for a module name and then use that shorthand in your code."
   ]
  },
  {
   "cell_type": "code",
   "execution_count": null,
   "metadata": {
    "tags": []
   },
   "outputs": [],
   "source": [
    "import math as m\n",
    "\n",
    "print('cos(pi) is', m.cos(m.pi))"
   ]
  },
  {
   "cell_type": "markdown",
   "metadata": {},
   "source": [
    "- Different library communities often come to consensus on an agreed shorthand.\n",
    "- An example of this is the convention used by the Pandas community.\n",
    "\n",
    "```python\n",
    "import pandas as pd\n",
    "```\n",
    "\n",
    "- If a given alias is convention it is probably harmless, but do not forget that aliases can cause your code to be difficult to understand."
   ]
  },
  {
   "cell_type": "markdown",
   "metadata": {},
   "source": [
    "## Exercises\n",
    "\n",
    "**When a colleague types `help(math)`, they get the following error:**\n",
    "\n",
    "```python\n",
    "NameError: name 'math' is not defined\n",
    "```\n",
    "\n",
    "**What did they forget to do?**"
   ]
  },
  {
   "cell_type": "code",
   "execution_count": null,
   "metadata": {
    "tags": []
   },
   "outputs": [],
   "source": []
  },
  {
   "cell_type": "markdown",
   "metadata": {},
   "source": [
    "**You want to select a random character from a string:**\n",
    "\n",
    "```python\n",
    "bases = 'ACTTGCTTGAC'\n",
    "```\n",
    "\n",
    "**1. Which [Standard Library](https://docs.python.org/3/library/) module might help? Click the link and look through the modules.**\n",
    "\n",
    "**2. Which function from the module might help?**\n",
    "\n",
    "**3. Write code that uses that function.**"
   ]
  },
  {
   "cell_type": "markdown",
   "metadata": {},
   "source": []
  },
  {
   "cell_type": "markdown",
   "metadata": {},
   "source": []
  },
  {
   "cell_type": "code",
   "execution_count": null,
   "metadata": {
    "tags": []
   },
   "outputs": [],
   "source": []
  },
  {
   "cell_type": "markdown",
   "metadata": {},
   "source": []
  },
  {
   "cell_type": "code",
   "execution_count": null,
   "metadata": {
    "tags": []
   },
   "outputs": [],
   "source": []
  },
  {
   "cell_type": "markdown",
   "metadata": {},
   "source": []
  },
  {
   "cell_type": "code",
   "execution_count": null,
   "metadata": {},
   "outputs": [],
   "source": []
  }
 ],
 "metadata": {
  "kernelspec": {
   "display_name": "Python 3",
   "language": "python",
   "name": "python3"
  },
  "language_info": {
   "codemirror_mode": {
    "name": "ipython",
    "version": 3
   },
   "file_extension": ".py",
   "mimetype": "text/x-python",
   "name": "python",
   "nbconvert_exporter": "python",
   "pygments_lexer": "ipython3",
   "version": "3.7.6"
  }
 },
 "nbformat": 4,
 "nbformat_minor": 4
}
