{
 "cells": [
  {
   "cell_type": "markdown",
   "metadata": {},
   "source": [
    "# Lesson 02 - Variables and Assignment"
   ]
  },
  {
   "cell_type": "markdown",
   "metadata": {},
   "source": [
    "## Questions:\n",
    "- How can I store data in programs?\n",
    "\n",
    "## Objectives\n",
    "- Write programs that assign values to variables and perform calculations with those values.\n",
    "- Correctly trace value changes in programs that use variable assignment."
   ]
  },
  {
   "cell_type": "markdown",
   "metadata": {},
   "source": [
    "## Variables Store Values\n",
    "- *Variables* are names used to store values.\n",
    "- The `=` symbol assigns the object on the right to the name on the left."
   ]
  },
  {
   "cell_type": "code",
   "execution_count": null,
   "metadata": {},
   "outputs": [],
   "source": [
    "age = 42\n",
    "first_name = 'Ahmed'"
   ]
  },
  {
   "cell_type": "markdown",
   "metadata": {},
   "source": [
    "## Variable Naming Conventions\n",
    "- Names can only contain letters, digits, and underscores (`_`).\n",
    "- Names cannot start with a digit.\n",
    "- Names are case sensitive (`Age` and `age` are different variables in Python).\n",
    "- Names that start with underscores have special meaning in Python."
   ]
  },
  {
   "cell_type": "markdown",
   "metadata": {},
   "source": [
    "## Use Print to Display Values\n",
    "- Python uses the built-in function `print()` to display objects within variables.\n",
    "- Put the items that you want to print in a comma-separated list within the function's parenthesis to display their content.\n",
    "  - Values passed to a function are called *arguments*.\n",
    "- You can include *strings* (text characters) in the list by wrapping the string in quotes.\n"
   ]
  },
  {
   "cell_type": "code",
   "execution_count": null,
   "metadata": {
    "tags": []
   },
   "outputs": [],
   "source": [
    "print(first_name, 'is', age, 'years old.')"
   ]
  },
  {
   "cell_type": "markdown",
   "metadata": {},
   "source": [
    "- Print automatically manages formatting issues like spaces between words and line wrapping."
   ]
  },
  {
   "cell_type": "markdown",
   "metadata": {},
   "source": [
    "## Variables Must be Created Before they are Used"
   ]
  },
  {
   "cell_type": "code",
   "execution_count": null,
   "metadata": {},
   "outputs": [],
   "source": [
    "print(last_name)"
   ]
  },
  {
   "cell_type": "markdown",
   "metadata": {},
   "source": [
    "## Be Aware of Hidden-State Errors"
   ]
  },
  {
   "cell_type": "code",
   "execution_count": null,
   "metadata": {},
   "outputs": [],
   "source": [
    "print(myval)"
   ]
  },
  {
   "cell_type": "code",
   "execution_count": null,
   "metadata": {},
   "outputs": [],
   "source": [
    "myval = 1"
   ]
  },
  {
   "cell_type": "markdown",
   "metadata": {},
   "source": [
    "- If we execute `print(myval)` again, it will work because `myval` has now been assigned `1`.\n",
    "- Jupyter is running separatly from the Python kernal.\n",
    "- These *hidden state* errors often occur when re-running old cells after reusing data or variables in recent work.\n",
    "- Sometimes it is helpful to use \"Kernal\", \"Restart and Run All\" to reset your environment."
   ]
  },
  {
   "cell_type": "markdown",
   "metadata": {},
   "source": [
    "## Using Variables in Calculations\n",
    "- You can use variables to stand in for the objects they store in calculations.\n",
    "- We assigned `42` to `age` above. Let's use it."
   ]
  },
  {
   "cell_type": "code",
   "execution_count": null,
   "metadata": {
    "tags": []
   },
   "outputs": [],
   "source": [
    "age = age + 3\n",
    "print('Age in three years:', age)"
   ]
  },
  {
   "cell_type": "markdown",
   "metadata": {},
   "source": [
    "## Using an Index to get Characters from String\n",
    "- Each letter in a string occupies a position that can be referenced, or indexed.\n",
    "- Counting starts with `0` in Python.\n",
    "- To access a specific letter, use it's *index*.\n",
    "- Brackets (`[position]`) after a variable's name index the item at that position.\n",
    "\n",
    "![](http://swcarpentry.github.io/python-novice-gapminder/fig/2_indexing.svg)"
   ]
  },
  {
   "cell_type": "code",
   "execution_count": null,
   "metadata": {
    "tags": []
   },
   "outputs": [],
   "source": [
    "atom_name = 'helium'\n",
    "print(atom_name[0])"
   ]
  },
  {
   "cell_type": "markdown",
   "metadata": {},
   "source": [
    "## Using a Slice to get a Substring\n",
    "- An item within a list of items is called an *element*.\n",
    "- A string's elements are individual characters.\n",
    "- We can index multiple elements by using the following index notation: `[start:stop]`.\n",
    "- This notation returns all the elements starting with the `start` item and up to (but not including) the `stop` item.\n",
    "- Grabbing multiple elements from a list of items is called taking a *slice*.\n",
    "- Taking a slice does not change the original string."
   ]
  },
  {
   "cell_type": "code",
   "execution_count": null,
   "metadata": {
    "tags": []
   },
   "outputs": [],
   "source": [
    "atom_name = 'sodium'\n",
    "print(atom_name[0:3])"
   ]
  },
  {
   "cell_type": "markdown",
   "metadata": {},
   "source": [
    "## Use `len()` to Find the Length of a String\n",
    "- The built-in function `len()` returns the length of a string."
   ]
  },
  {
   "cell_type": "code",
   "execution_count": null,
   "metadata": {
    "tags": []
   },
   "outputs": [],
   "source": [
    "print(len('helium'))"
   ]
  },
  {
   "cell_type": "markdown",
   "metadata": {},
   "source": [
    "- We can nest functions.\n",
    "- Functions are executed from the inside out, like mathematics."
   ]
  },
  {
   "cell_type": "markdown",
   "metadata": {},
   "source": [
    "## Use Meaningful Variable Names\n",
    "- Be kind to potential collaborators (and your future self) by using descriptive variable names.\n",
    "- Python will still execute your code without problems as long as names are consistent, but you might not know what is going on."
   ]
  },
  {
   "cell_type": "code",
   "execution_count": null,
   "metadata": {
    "tags": []
   },
   "outputs": [],
   "source": [
    "flabadab = 42\n",
    "ewr_422_yY = 'Ahmed'\n",
    "print(ewr_422_yY, 'is', flabadab, 'years old.')"
   ]
  },
  {
   "cell_type": "markdown",
   "metadata": {},
   "source": [
    "## Exercises\n",
    "\n",
    "**What do you expect to get when running the following code? Paste it into a cell below and try it out**\n",
    "\n",
    "```python\n",
    "a = 123\n",
    "print(a[1])\n",
    "```"
   ]
  },
  {
   "cell_type": "code",
   "execution_count": null,
   "metadata": {},
   "outputs": [],
   "source": []
  },
  {
   "cell_type": "markdown",
   "metadata": {},
   "source": []
  }
 ],
 "metadata": {
  "kernelspec": {
   "display_name": "Python 3",
   "language": "python",
   "name": "python3"
  },
  "language_info": {
   "codemirror_mode": {
    "name": "ipython",
    "version": 3
   },
   "file_extension": ".py",
   "mimetype": "text/x-python",
   "name": "python",
   "nbconvert_exporter": "python",
   "pygments_lexer": "ipython3",
   "version": "3.7.6"
  }
 },
 "nbformat": 4,
 "nbformat_minor": 4
}
