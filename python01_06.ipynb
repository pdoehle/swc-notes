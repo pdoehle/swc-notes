{
 "cells": [
  {
   "cell_type": "markdown",
   "metadata": {},
   "source": [
    "# Lesson 06 - Making Decisions (Conditionals)"
   ]
  },
  {
   "cell_type": "markdown",
   "metadata": {},
   "source": [
    "## Questions\n",
    "- How do I make my program change based on different conditions?\n",
    "\n",
    "## Objectives\n",
    "- Write code that makes decisions using `if` and `else` statements and boolean expressions.\n",
    "- Trace the execution of conditionals.\n",
    "- Change our program based on a user's input."
   ]
  },
  {
   "cell_type": "markdown",
   "metadata": {},
   "source": [
    "## `if` Statements\n",
    "- `if` statements control whether or not a block of code is executed.\n",
    "- Anatomy of an `if` statement:\n",
    "  - Begin with `if`\n",
    "  - Follow `if` with a logical condition (e.g. `mass > 3.0`)\n",
    "  - End line with a colon `:` and type <kbd>Return</kbd>\n",
    "  - The body of the if statement must be indented (convention is 4 spaces)\n",
    "    - Jupyter Notebooks will do this for you automatically when you type <kbd>Return</kbd>"
   ]
  },
  {
   "cell_type": "code",
   "execution_count": null,
   "metadata": {
    "tags": []
   },
   "outputs": [],
   "source": [
    "mass = 3.54\n",
    "if mass > 3.0:\n",
    "    print(mass, 'is large')\n",
    "\n",
    "mass = 2.07\n",
    "if mass > 3.0:\n",
    "    print(mass, 'is large')"
   ]
  },
  {
   "cell_type": "markdown",
   "metadata": {},
   "source": [
    "- `if` statements make use of boolean expressions (things that evaluate to either `True` or `False`).\n",
    "- Below are a some commonly used boolean expressions:\n",
    "\n",
    "| Expression | Meaning |\n",
    "|    :---:     |   :---   |\n",
    "| <          | Less than |\n",
    "| >          | Greater than |\n",
    "| <=         | Less than or equal to |\n",
    "| >=         | Greater than or equal to |\n",
    "| ==         | Is equal to |\n",
    "| !=         | Is not equal to |"
   ]
  },
  {
   "cell_type": "markdown",
   "metadata": {},
   "source": [
    "## `else` Statement\n",
    "- Use the `else` statement to execute a different code block if the `if` statement is not true."
   ]
  },
  {
   "cell_type": "code",
   "execution_count": null,
   "metadata": {
    "tags": []
   },
   "outputs": [],
   "source": [
    "# Test several numbers\n",
    "# Call them large if they are greater than 3.0\n",
    "# Call them small if they are less than or equal to 3.0\n",
    "\n",
    "m = 3.54\n",
    "if m > 3.0:\n",
    "    print(m, 'is large')\n",
    "else:\n",
    "    print(m, 'is small')\n",
    "\n",
    "m = 2.07\n",
    "if m > 3.0:\n",
    "    print(m, 'is large')\n",
    "else:\n",
    "    print(m, 'is small')\n",
    "\n",
    "m = 9.22\n",
    "if m > 3.0:\n",
    "    print(m, 'is large')\n",
    "else:\n",
    "    print(m, 'is small')\n",
    "\n",
    "m = 1.86\n",
    "if m > 3.0:\n",
    "    print(m, 'is large')\n",
    "else:\n",
    "    print(m, 'is small')\n",
    "\n",
    "m = 1.71\n",
    "if m > 3.0:\n",
    "    print(m, 'is large')\n",
    "else:\n",
    "    print(m, 'is small')"
   ]
  },
  {
   "cell_type": "markdown",
   "metadata": {},
   "source": [
    "## `elif` Statement\n",
    "- `elif` allows you to create several options for a given decision.\n",
    "- `elif` must come after `if` and before `else`."
   ]
  },
  {
   "cell_type": "code",
   "execution_count": null,
   "metadata": {
    "tags": []
   },
   "outputs": [],
   "source": [
    "m = 3.54\n",
    "if m > 9.0:\n",
    "    print(m, 'is Huge')\n",
    "elif m > 3.0:\n",
    "    print(m, 'is large')\n",
    "else:\n",
    "    print(m, 'is small')\n",
    "\n",
    "m = 2.07\n",
    "if m > 9.0:\n",
    "    print(m, 'is Huge')\n",
    "elif m > 3.0:\n",
    "    print(m, 'is large')\n",
    "else:\n",
    "    print(m, 'is small')\n",
    "\n",
    "m = 9.22\n",
    "if m > 9.0:\n",
    "    print(m, 'is Huge')\n",
    "elif m > 3.0:\n",
    "    print(m, 'is large')\n",
    "else:\n",
    "    print(m, 'is small')\n",
    "\n",
    "m = 1.86\n",
    "if m > 9.0:\n",
    "    print(m, 'is Huge')\n",
    "elif m > 3.0:\n",
    "    print(m, 'is large')\n",
    "else:\n",
    "    print(m, 'is small')\n",
    "\n",
    "m = 1.71\n",
    "if m > 9.0:\n",
    "    print(m, 'is Huge')\n",
    "elif m > 3.0:\n",
    "    print(m, 'is large')\n",
    "else:\n",
    "    print(m, 'is small')"
   ]
  },
  {
   "cell_type": "markdown",
   "metadata": {},
   "source": [
    "- Python moves through `elif` statements in order and stops once it executes a true statement.\n",
    "- This means order of statements matters."
   ]
  },
  {
   "cell_type": "code",
   "execution_count": null,
   "metadata": {
    "tags": []
   },
   "outputs": [],
   "source": [
    "grade = 85\n",
    "if grade >= 70:\n",
    "    print('Grade is C')\n",
    "elif grade >= 80:\n",
    "    print('Grade is B')\n",
    "elif grade >= 90:\n",
    "    print('Grade is A')"
   ]
  },
  {
   "cell_type": "markdown",
   "metadata": {},
   "source": [
    "**How can we fix this?**"
   ]
  },
  {
   "cell_type": "code",
   "execution_count": null,
   "metadata": {
    "tags": []
   },
   "outputs": [],
   "source": [
    "grade = 85\n",
    "if grade >= 90:\n",
    "    print('Grade is A')\n",
    "elif grade >= 80:\n",
    "    print('Grade is B')\n",
    "elif grade >= 70:\n",
    "    print('Grade is C')\n",
    "else:\n",
    "    print('Grade is D')"
   ]
  },
  {
   "cell_type": "markdown",
   "metadata": {},
   "source": [
    "- Conditionals do no re-evaluate automatically if a value is updated."
   ]
  },
  {
   "cell_type": "code",
   "execution_count": null,
   "metadata": {
    "tags": []
   },
   "outputs": [],
   "source": [
    "velocity = 10.0\n",
    "if velocity > 20.0:\n",
    "    print('Moving too fast')\n",
    "else:\n",
    "    print('Adjusting velocity')\n",
    "    velocity = 50.0"
   ]
  },
  {
   "cell_type": "markdown",
   "metadata": {},
   "source": [
    "- Python supports compound boolean expressions.\n",
    "- `(expression) and (expression)` requires the expression on the left and right to be true in order for the whole statement to be true.\n",
    "- `(expression) or (expression)` requires allows either expression on the right or left to be true in order for the whole statement to be true.\n",
    "- Be sure to use parenthesis around your expressions so that everything is tested in the correct order."
   ]
  },
  {
   "cell_type": "markdown",
   "metadata": {},
   "source": [
    "- The `input()` function prints a prompt and allows the user to enter values into the program.\n",
    "- Even if we enter numbers into the prompt, they are recorded as strings, so we need to do a type conversion when assigning the input value to a variable.\n",
    "- Try out the following code with different values. See if you can hit all the cases."
   ]
  },
  {
   "cell_type": "code",
   "execution_count": null,
   "metadata": {
    "tags": []
   },
   "outputs": [],
   "source": [
    "# Get user input for mass and velocity\n",
    "mass = float(input('Enter a mass:'))\n",
    "velocity = float(input('Enter a velocity:'))\n",
    "\n",
    "# What kind of traffic is it?\n",
    "if mass > 5 and velocity > 20:\n",
    "    print('Fast heavy object.  Duck!')\n",
    "elif (mass > 2 and mass <= 5 ) and velocity <= 20:\n",
    "    print('Normal traffic.')\n",
    "elif mass <= 2 and velocity <= 20:\n",
    "    print('Slow light object.  Ignore it.')\n",
    "else:\n",
    "    print('Whoa!  Something is up with the data.  Please check it.')"
   ]
  },
  {
   "cell_type": "markdown",
   "metadata": {},
   "source": [
    "**How can we add parenthesis to the above code to make it safer? Go ahead and make those changes.**"
   ]
  },
  {
   "cell_type": "markdown",
   "metadata": {},
   "source": [
    "## Exercises\n",
    "\n",
    "**What does this code print? Determine the answer before running the code, then run it to check your answer.**\n",
    "\n",
    "```python\n",
    "pressure = 71.9\n",
    "if pressure > 50.0:\n",
    "    pressure = 25.0\n",
    "elif pressure <= 50.0:\n",
    "    pressure = 0.0\n",
    "print(pressure)\n",
    "```"
   ]
  },
  {
   "cell_type": "code",
   "execution_count": null,
   "metadata": {
    "tags": []
   },
   "outputs": [],
   "source": []
  }
 ],
 "metadata": {
  "kernelspec": {
   "display_name": "Python 3",
   "language": "python",
   "name": "python3"
  },
  "language_info": {
   "codemirror_mode": {
    "name": "ipython",
    "version": 3
   },
   "file_extension": ".py",
   "mimetype": "text/x-python",
   "name": "python",
   "nbconvert_exporter": "python",
   "pygments_lexer": "ipython3",
   "version": "3.7.6"
  }
 },
 "nbformat": 4,
 "nbformat_minor": 4
}
