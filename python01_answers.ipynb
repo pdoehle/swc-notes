{
 "cells": [
  {
   "cell_type": "markdown",
   "metadata": {},
   "source": [
    "# Lesson 02 - Variables and Assignment"
   ]
  },
  {
   "cell_type": "markdown",
   "metadata": {},
   "source": [
    "## Exercises\n",
    "\n",
    "**What do you expect to get when running the following code? Paste it into a cell below and try it out**\n",
    "\n",
    "```python\n",
    "a = 123\n",
    "print(a[1])\n",
    "```"
   ]
  },
  {
   "cell_type": "code",
   "execution_count": null,
   "metadata": {},
   "outputs": [],
   "source": [
    "a = 123\n",
    "print(a[1])"
   ]
  },
  {
   "cell_type": "markdown",
   "metadata": {},
   "source": [
    "- `a` is not a string; it's an integer.\n",
    "- Every object in Python has a type with its own set of behaviors.\n",
    "- You cannot index integers like you index strings."
   ]
  },
  {
   "cell_type": "markdown",
   "metadata": {},
   "source": [
    "# Lesson 03 - Data Types and Type Conversion"
   ]
  },
  {
   "cell_type": "markdown",
   "metadata": {},
   "source": [
    "## Exercises"
   ]
  },
  {
   "cell_type": "markdown",
   "metadata": {},
   "source": [
    "**When reasonable, `float()` will convert a string to a number, and `int()` will convert a floating-point number to an integer. What do you expect to get when running the following code blocks? Try it out.**\n",
    "\n",
    "- String to number, and float to integer:\n",
    "\n",
    "```python\n",
    "print('String to float:', float('3.4'))\n",
    "print('Float to integer:', int(3.4))\n",
    "```\n",
    "\n",
    "- Another string to number:\n",
    "\n",
    "```python\n",
    "print('String to float:', float('Hello world!))\n",
    "```\n",
    "\n",
    "**Given this information, what do you expect this code to do?**\n",
    "\n",
    "```python\n",
    "int('3.4')\n",
    "```\n",
    "\n",
    "**How do we fix it?**"
   ]
  },
  {
   "cell_type": "code",
   "execution_count": 1,
   "metadata": {
    "tags": []
   },
   "outputs": [
    {
     "output_type": "stream",
     "name": "stdout",
     "text": "String to float: 3.4\nFloat to integer: 3\n"
    }
   ],
   "source": [
    "print('String to float:', float('3.4'))\n",
    "print('Float to integer:', int(3.4))"
   ]
  },
  {
   "cell_type": "code",
   "execution_count": 2,
   "metadata": {},
   "outputs": [
    {
     "output_type": "error",
     "ename": "ValueError",
     "evalue": "could not convert string to float: 'Hello world!'",
     "traceback": [
      "\u001b[0;31m---------------------------------------------------------------------------\u001b[0m",
      "\u001b[0;31mValueError\u001b[0m                                Traceback (most recent call last)",
      "\u001b[0;32m<ipython-input-2-e882b076f7fd>\u001b[0m in \u001b[0;36m<module>\u001b[0;34m\u001b[0m\n\u001b[0;32m----> 1\u001b[0;31m \u001b[0mprint\u001b[0m\u001b[0;34m(\u001b[0m\u001b[0;34m'String to float:'\u001b[0m\u001b[0;34m,\u001b[0m \u001b[0mfloat\u001b[0m\u001b[0;34m(\u001b[0m\u001b[0;34m'Hello world!'\u001b[0m\u001b[0;34m)\u001b[0m\u001b[0;34m)\u001b[0m\u001b[0;34m\u001b[0m\u001b[0;34m\u001b[0m\u001b[0m\n\u001b[0m",
      "\u001b[0;31mValueError\u001b[0m: could not convert string to float: 'Hello world!'"
     ]
    }
   ],
   "source": [
    "print('String to float:', float('Hello world!'))"
   ]
  },
  {
   "cell_type": "code",
   "execution_count": 3,
   "metadata": {},
   "outputs": [
    {
     "output_type": "error",
     "ename": "ValueError",
     "evalue": "invalid literal for int() with base 10: '3.4'",
     "traceback": [
      "\u001b[0;31m---------------------------------------------------------------------------\u001b[0m",
      "\u001b[0;31mValueError\u001b[0m                                Traceback (most recent call last)",
      "\u001b[0;32m<ipython-input-3-5e199bebc801>\u001b[0m in \u001b[0;36m<module>\u001b[0;34m\u001b[0m\n\u001b[0;32m----> 1\u001b[0;31m \u001b[0mint\u001b[0m\u001b[0;34m(\u001b[0m\u001b[0;34m'3.4'\u001b[0m\u001b[0;34m)\u001b[0m\u001b[0;34m\u001b[0m\u001b[0;34m\u001b[0m\u001b[0m\n\u001b[0m",
      "\u001b[0;31mValueError\u001b[0m: invalid literal for int() with base 10: '3.4'"
     ]
    }
   ],
   "source": [
    "int('3.4')"
   ]
  },
  {
   "cell_type": "code",
   "execution_count": null,
   "metadata": {},
   "outputs": [],
   "source": [
    "int(float('3.4'))"
   ]
  },
  {
   "cell_type": "markdown",
   "metadata": {},
   "source": [
    "**Knowing what you know now, how do we index the second digit from `a = 123`?**"
   ]
  },
  {
   "cell_type": "code",
   "execution_count": 2,
   "metadata": {
    "tags": []
   },
   "outputs": [
    {
     "name": "stdout",
     "output_type": "stream",
     "text": [
      "2\n"
     ]
    }
   ],
   "source": [
    "a = 123\n",
    "a_string = str(a)\n",
    "print(int(a_string[1]))"
   ]
  },
  {
   "cell_type": "markdown",
   "metadata": {},
   "source": [
    "# Lesson 04 - Built-In Functions and Help"
   ]
  },
  {
   "cell_type": "markdown",
   "metadata": {},
   "source": [
    "## Exercises\n",
    "\n",
    "**Why don't `max` and `min` return `None` when they are not given arguments? What error message do you get when you try it out?**"
   ]
  },
  {
   "cell_type": "code",
   "execution_count": null,
   "metadata": {},
   "outputs": [],
   "source": [
    "max()"
   ]
  },
  {
   "cell_type": "code",
   "execution_count": null,
   "metadata": {},
   "outputs": [],
   "source": [
    "min()"
   ]
  },
  {
   "cell_type": "markdown",
   "metadata": {},
   "source": [
    "- Both `max()` and `min()` require at least one argument.\n",
    "- This design means the function throws an error immediately instead of getting an unexpected `None`.\n",
    "- Having an unexpected `None` in a variable may create a runtime error later and be harder to fix."
   ]
  },
  {
   "cell_type": "markdown",
   "metadata": {},
   "source": [
    "# Lesson 05 - Libraries"
   ]
  },
  {
   "cell_type": "markdown",
   "metadata": {},
   "source": [
    "## Exercises\n",
    "\n",
    "**When a colleague types `help(math)`, they get the following error:**\n",
    "\n",
    "```python\n",
    "NameError: name 'math' is not defined\n",
    "```\n",
    "\n",
    "**What did they forget to do?**"
   ]
  },
  {
   "cell_type": "code",
   "execution_count": null,
   "metadata": {
    "tags": []
   },
   "outputs": [],
   "source": [
    "import math\n",
    "help(math)"
   ]
  },
  {
   "cell_type": "markdown",
   "metadata": {},
   "source": [
    "**You want to select a random character from a string:**\n",
    "\n",
    "```python\n",
    "bases = 'ACTTGCTTGAC'\n",
    "```\n",
    "\n",
    "**1. Which [Standard Library](https://docs.python.org/3/library/) module might help? Click the link and look through the modules.**\n",
    "\n",
    "**2. Which function from the module might help?**\n",
    "\n",
    "**3. Write code that uses that function.**"
   ]
  },
  {
   "cell_type": "markdown",
   "metadata": {},
   "source": [
    "**1. Which [Standard Library](https://docs.python.org/3/library/) module might help?**\n",
    "\n",
    "- Since we want to randomly select a character, [`random`](https://docs.python.org/3/library/random.html) might help us."
   ]
  },
  {
   "cell_type": "markdown",
   "metadata": {},
   "source": [
    "**2. Which function from the module might help?**\n",
    "\n",
    "- We can look at the list of function in the [online documentation](https://docs.python.org/3/library/random.html) for `random` to find a function that might apply.\n",
    "- We can also use `help()` to get a list of functions.\n",
    "\n",
    "*Hint: Look for the list under the title `FUNCTIONS` in the documentation.*"
   ]
  },
  {
   "cell_type": "code",
   "execution_count": null,
   "metadata": {
    "tags": []
   },
   "outputs": [],
   "source": [
    "import random\n",
    "help(random)"
   ]
  },
  {
   "cell_type": "markdown",
   "metadata": {},
   "source": [
    "- The function `choice()` looks promising."
   ]
  },
  {
   "cell_type": "code",
   "execution_count": null,
   "metadata": {
    "tags": []
   },
   "outputs": [],
   "source": [
    "import random\n",
    "\n",
    "help(random.choice)"
   ]
  },
  {
   "cell_type": "markdown",
   "metadata": {},
   "source": [
    "**3. Write code that uses that function. Run it several times to see if it is truly random.**"
   ]
  },
  {
   "cell_type": "code",
   "execution_count": null,
   "metadata": {},
   "outputs": [],
   "source": [
    "import random\n",
    "\n",
    "bases = 'ACTTGCTTGAC'\n",
    "random.choice(bases)"
   ]
  },
  {
   "cell_type": "markdown",
   "metadata": {},
   "source": [
    "# Lesson 06 - Making Decisions (Conditionals)"
   ]
  },
  {
   "cell_type": "markdown",
   "metadata": {},
   "source": [
    "## Exercises\n",
    "\n",
    "**What does this code print? Determine the answer before running the code, then run it to check your answer.**\n",
    "\n",
    "```python\n",
    "pressure = 71.9\n",
    "if pressure > 50.0:\n",
    "    pressure = 25.0\n",
    "elif pressure <= 50.0:\n",
    "    pressure = 0.0\n",
    "print(pressure)\n",
    "```"
   ]
  },
  {
   "cell_type": "code",
   "execution_count": null,
   "metadata": {
    "tags": []
   },
   "outputs": [],
   "source": [
    "pressure = 71.9\n",
    "if pressure > 50.0:\n",
    "    pressure = 25.0\n",
    "elif pressure <= 50.0:\n",
    "    pressure = 0.0\n",
    "print(pressure)"
   ]
  },
  {
   "cell_type": "markdown",
   "metadata": {},
   "source": [
    "- Execution ends once a condition is met. Execution does not run again for updated values."
   ]
  },
  {
   "cell_type": "markdown",
   "metadata": {},
   "source": [
    "# Lesson 07 - Lists"
   ]
  },
  {
   "cell_type": "markdown",
   "metadata": {},
   "source": [
    "## Exercises\n",
    "\n",
    "**If both `low` and `high` are non-negative integers, how long is the list `values[low:high]`?**"
   ]
  },
  {
   "cell_type": "markdown",
   "metadata": {},
   "source": [
    "The list `values[low:high]` has `high - low` elements."
   ]
  },
  {
   "cell_type": "markdown",
   "metadata": {},
   "source": [
    "**Try out the following code.**\n",
    "\n",
    "```python\n",
    "print('String to list:', list('tin'))\n",
    "print('List to string:', ''.join(['g', 'o', 'l', 'd']))\n",
    "```"
   ]
  },
  {
   "cell_type": "code",
   "execution_count": null,
   "metadata": {
    "tags": []
   },
   "outputs": [],
   "source": [
    "print('String to list:', list('tin'))\n",
    "print('List to string:', ''.join(['g', 'o', 'l', 'd']))"
   ]
  },
  {
   "cell_type": "markdown",
   "metadata": {},
   "source": [
    "**Given this, what does `list('some string')` and `'-'.join(['x', 'y', 'z'])` do?**"
   ]
  },
  {
   "cell_type": "code",
   "execution_count": null,
   "metadata": {
    "tags": []
   },
   "outputs": [],
   "source": [
    "print(list('some string'))\n",
    "print('-'.join(['x', 'y', 'z']))"
   ]
  },
  {
   "cell_type": "markdown",
   "metadata": {},
   "source": [
    "**What will the following code do? Try it out.**\n",
    "\n",
    "```python\n",
    "element = 'helium'\n",
    "print(element[-1])\n",
    "```"
   ]
  },
  {
   "cell_type": "code",
   "execution_count": null,
   "metadata": {
    "tags": []
   },
   "outputs": [],
   "source": [
    "element = 'helium'\n",
    "print(element[-1])"
   ]
  }
 ],
 "metadata": {
  "kernelspec": {
   "display_name": "Python 3",
   "language": "python",
   "name": "python3"
  },
  "language_info": {
   "codemirror_mode": {
    "name": "ipython",
    "version": 3
   },
   "file_extension": ".py",
   "mimetype": "text/x-python",
   "name": "python",
   "nbconvert_exporter": "python",
   "pygments_lexer": "ipython3",
   "version": "3.7.6-final"
  }
 },
 "nbformat": 4,
 "nbformat_minor": 4
}