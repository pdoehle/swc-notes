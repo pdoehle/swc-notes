{
 "metadata": {
  "language_info": {
   "codemirror_mode": {
    "name": "ipython",
    "version": 3
   },
   "file_extension": ".py",
   "mimetype": "text/x-python",
   "name": "python",
   "nbconvert_exporter": "python",
   "pygments_lexer": "ipython3",
   "version": "3.7.6-final"
  },
  "orig_nbformat": 2,
  "kernelspec": {
   "name": "python_defaultSpec_1600870725925",
   "display_name": "Python 3.7.6 64-bit ('base': conda)"
  }
 },
 "nbformat": 4,
 "nbformat_minor": 2,
 "cells": [
  {
   "source": [
    "# Day 01\n",
    "Notes based on [The Carpentries](https://carpentries.org/) material.\n",
    "\n",
    "# Lesson 01 - Running Python and Using Jupyter Notebooks\n",
    "- Running and Quitting\n",
    "- Variables and Assignment\n",
    "- Data Types and Type Conversion\n",
    "- Built-in Functions and Help\n",
    "- Libraries\n",
    "- Conditionals\n",
    "- Lists\n"
   ],
   "cell_type": "markdown",
   "metadata": {}
  },
  {
   "source": [
    "# TIGER INSTRUCTIONS HERE\n",
    "Future site of instructions for participants to log into Tiger and start up their notebook."
   ],
   "cell_type": "markdown",
   "metadata": {}
  },
  {
   "source": [
    "## Questions:\n",
    "- How can I run Python programs? \n",
    "\n",
    "## Objectives:  \n",
    "- Log into OSU's Tiger Research Compute Cloud\n",
    "- Launch a Jupyter notebook.\n",
    "- Explain the difference between a Python script and a Jupyter notebook.\n",
    "- Create Markdown cells in a notebook.\n",
    "- Create and run Python cells in a notebook.\n",
    "\n",
    "## Running a Pythong Program\n",
    "- Python scripts are plain-text files.\n",
    "- Files usually end with `.py` extenstion.\n",
    "- Scripts require a Python interpreter to run.\n",
    "- You have lots of options when creating a Python script: integrated developer environments (IDE's), various text editors, and Jupyter notebooks.\n",
    "\n",
    "## Jupyter Notebooks\n",
    "- We will use a Jupyter Notebook for running and editing Python commands.\n",
    "- Notebooks are intended to imitate the feel of a lab notebook and are designed for presenting output.\n",
    "- Content is broken into three types of blocks: Markdown, code blocks, and output/results.\n",
    "- Notebooks can be saved as `.ipynb` files that you can share with collaborators.\n",
    "- Notebooks are separate from the Python interpreter.\n",
    "- Jupyter notebooks can be run in the cloud or locally on your computer.\n",
    "- If you decide to run notebooks locally on your computer, we recommend using the [Anaconda Python](https://www.anaconda.com/products/individual) distribution.\n",
    "\n",
    "## Using Jupyter Notebooks\n",
    "- There are two modes:\n",
    "  - Edit mode\n",
    "  - Command mode\n",
    "- After clicking on a cell, type <kbd>Esc</kbd> to enter command mode and <kbd>Return</kbd> to enter edit mode.\n",
    "- Command mode allows you to take change the cell type to either Markdown (<kbd>m</kbd>) or Python code (<kbd>y</kbd>).\n",
    "- To execute the content of a cell type <kbd>Shift</kbd>+<kbd>Return</kbd>."
   ],
   "cell_type": "markdown",
   "metadata": {}
  },
  {
   "source": [
    "## Markdown\n",
    "- Markdown is a markup language used to format text.\n",
    "- Designed for bloggers to format text without needing to learn HTML.\n",
    "- Jupyter notebooks employ Markdown to allow us to explain code blocks and content within our notebook.\n",
    "- These notes employ markdown. Double click this text to see how I entered it in edit mode.\n",
    "- Here is a [Markdown cheat sheet](https://www.markdownguide.org/cheat-sheet) for further reference."
   ],
   "cell_type": "markdown",
   "metadata": {}
  },
  {
   "source": [
    "## Key Markdown Conventions"
   ],
   "cell_type": "markdown",
   "metadata": {}
  },
  {
   "source": [
    "## Headings\n",
    "\n",
    "# Level 1\n",
    "## Level 2\n",
    "### Level 3"
   ],
   "cell_type": "markdown",
   "metadata": {}
  },
  {
   "source": [
    "## Lists\n",
    "\n",
    "* Asterisks\n",
    "- and dashes\n",
    "- create unordered lists "
   ],
   "cell_type": "markdown",
   "metadata": {}
  },
  {
   "source": [
    "1. Numbers\n",
    "3. off any\n",
    "1. order create\n",
    "2. ordered lists"
   ],
   "cell_type": "markdown",
   "metadata": {}
  },
  {
   "source": [
    "- This convention is helpful for updating documentation later."
   ],
   "cell_type": "markdown",
   "metadata": {}
  },
  {
   "source": [
    "1. First step\n",
    "1. then add\n",
    "1. a step"
   ],
   "cell_type": "markdown",
   "metadata": {}
  },
  {
   "source": [
    "1. First step\n",
    "1. then add\n",
    "1. then add\n",
    "1. a step"
   ],
   "cell_type": "markdown",
   "metadata": {}
  },
  {
   "source": [
    "- Adding spaces in front \n",
    "  - of a line\n",
    "    - creates\n",
    "    1. sublists"
   ],
   "cell_type": "markdown",
   "metadata": {}
  },
  {
   "source": [
    "## Math"
   ],
   "cell_type": "markdown",
   "metadata": {}
  },
  {
   "source": [
    "- Markdown supports $LaTeX$ notation between `$`'s, so you write equations in your notebook:"
   ],
   "cell_type": "markdown",
   "metadata": {}
  },
  {
   "source": [
    "$$\\zeta (s)=\\sum _{n=1}^{\\infty }{\\frac {1}{n^{s}}}$$"
   ],
   "cell_type": "markdown",
   "metadata": {}
  },
  {
   "source": [
    "# Lesson 02 - Variables and Assignment"
   ],
   "cell_type": "markdown",
   "metadata": {}
  },
  {
   "source": [
    "## Questions:\n",
    "- How can I store data in programs?\n",
    "\n",
    "## Objectives\n",
    "- Write programs that assign values to variables and perform calculations with those values.\n",
    "- Correctly trace value changes in programs that use variable assignment."
   ],
   "cell_type": "markdown",
   "metadata": {}
  },
  {
   "source": [
    "## Variables Store Values\n",
    "- *Variables* are names used to store values.\n",
    "- The `=` symbol assigns the object on the right to the name on the left."
   ],
   "cell_type": "markdown",
   "metadata": {}
  },
  {
   "cell_type": "code",
   "execution_count": 1,
   "metadata": {},
   "outputs": [],
   "source": [
    "age = 42\n",
    "first_name = 'Ahmed'"
   ]
  },
  {
   "source": [
    "## Variable Naming Conventions\n",
    "- Names can only contain letters, digits, and underscores (`_`).\n",
    "- Names cannot start with a digit.\n",
    "- Names are case sensitive (`Age` and `age` are different variables in Python).\n",
    "- Names that start with underscores have special meaning in Python."
   ],
   "cell_type": "markdown",
   "metadata": {}
  },
  {
   "source": [
    "## Use Print to Display Values\n",
    "- Python uses the built-in function `print()` to display objects within variables.\n",
    "- Put the items that you want to print in a comma-separated list within the function's parenthesis to display their content.\n",
    "  - Values passed to a function are called *arguments*.\n",
    "- You can include *strings* (text characters) in the list by wrapping the string in quotes.\n"
   ],
   "cell_type": "markdown",
   "metadata": {}
  },
  {
   "cell_type": "code",
   "execution_count": 2,
   "metadata": {
    "tags": []
   },
   "outputs": [
    {
     "output_type": "stream",
     "name": "stdout",
     "text": "Ahmed is 42 years old.\n"
    }
   ],
   "source": [
    "print(first_name, 'is', age, 'years old.')"
   ]
  },
  {
   "source": [
    "- Print automatically manages formatting issues like spaces between words and line wrapping."
   ],
   "cell_type": "markdown",
   "metadata": {}
  },
  {
   "source": [
    "## Variables Must be Created Before they are Used"
   ],
   "cell_type": "markdown",
   "metadata": {}
  },
  {
   "cell_type": "code",
   "execution_count": 3,
   "metadata": {},
   "outputs": [
    {
     "output_type": "error",
     "ename": "NameError",
     "evalue": "name 'last_name' is not defined",
     "traceback": [
      "\u001b[0;31m---------------------------------------------------------------------------\u001b[0m",
      "\u001b[0;31mNameError\u001b[0m                                 Traceback (most recent call last)",
      "\u001b[0;32m<ipython-input-3-a637c5453549>\u001b[0m in \u001b[0;36m<module>\u001b[0;34m\u001b[0m\n\u001b[0;32m----> 1\u001b[0;31m \u001b[0mprint\u001b[0m\u001b[0;34m(\u001b[0m\u001b[0mlast_name\u001b[0m\u001b[0;34m)\u001b[0m\u001b[0;34m\u001b[0m\u001b[0;34m\u001b[0m\u001b[0m\n\u001b[0m",
      "\u001b[0;31mNameError\u001b[0m: name 'last_name' is not defined"
     ]
    }
   ],
   "source": [
    "print(last_name)"
   ]
  },
  {
   "source": [
    "## Be Aware of Hidden-State Errors"
   ],
   "cell_type": "markdown",
   "metadata": {}
  },
  {
   "cell_type": "code",
   "execution_count": 4,
   "metadata": {},
   "outputs": [
    {
     "output_type": "error",
     "ename": "NameError",
     "evalue": "name 'myval' is not defined",
     "traceback": [
      "\u001b[0;31m---------------------------------------------------------------------------\u001b[0m",
      "\u001b[0;31mNameError\u001b[0m                                 Traceback (most recent call last)",
      "\u001b[0;32m<ipython-input-4-7b59df88f2b1>\u001b[0m in \u001b[0;36m<module>\u001b[0;34m\u001b[0m\n\u001b[0;32m----> 1\u001b[0;31m \u001b[0mprint\u001b[0m\u001b[0;34m(\u001b[0m\u001b[0mmyval\u001b[0m\u001b[0;34m)\u001b[0m\u001b[0;34m\u001b[0m\u001b[0;34m\u001b[0m\u001b[0m\n\u001b[0m",
      "\u001b[0;31mNameError\u001b[0m: name 'myval' is not defined"
     ]
    }
   ],
   "source": [
    "print(myval)"
   ]
  },
  {
   "cell_type": "code",
   "execution_count": 5,
   "metadata": {},
   "outputs": [],
   "source": [
    "myval = 1"
   ]
  },
  {
   "source": [
    "- If we execute `print(myval)` again, it will work because `myval` has now been assigned `1`.\n",
    "- Jupyter is running separatly from the Python kernal.\n",
    "- These *hidden state* errors often occur when re-running old cells after reusing data or variables in recent work.\n",
    "- Sometimes it is helpful to use \"Kernal\", \"Restart and Run All\" to reset your environment."
   ],
   "cell_type": "markdown",
   "metadata": {}
  },
  {
   "source": [
    "## Using Variables in Calculations\n",
    "- You can use variables to stand in for the objects they store in calculations.\n",
    "- We assigned `42` to `age` above. Let's use it."
   ],
   "cell_type": "markdown",
   "metadata": {}
  },
  {
   "cell_type": "code",
   "execution_count": 6,
   "metadata": {
    "tags": []
   },
   "outputs": [
    {
     "output_type": "stream",
     "name": "stdout",
     "text": "Age in three years: 45\n"
    }
   ],
   "source": [
    "age = age + 3\n",
    "print('Age in three years:', age)"
   ]
  },
  {
   "source": [
    "## Using an Index to get Characters from String\n",
    "- Each letter in a string occupies a position that can be referenced, or indexed.\n",
    "- Counting starts with `0` in Python.\n",
    "- To access a specific letter, use it's *index*.\n",
    "- Brackets (`[position]`) after a variable's name index the item at that position.\n",
    "\n",
    "![](http://swcarpentry.github.io/python-novice-gapminder/fig/2_indexing.svg)"
   ],
   "cell_type": "markdown",
   "metadata": {}
  },
  {
   "cell_type": "code",
   "execution_count": 7,
   "metadata": {
    "tags": []
   },
   "outputs": [
    {
     "output_type": "stream",
     "name": "stdout",
     "text": "h\n"
    }
   ],
   "source": [
    "atom_name = 'helium'\n",
    "print(atom_name[0])"
   ]
  },
  {
   "source": [
    "## Using a Slice to get a Substring\n",
    "- An item within a list of items is called an *element*.\n",
    "- A string's elements are individual characters.\n",
    "- We can index multiple elements by using the following index notation: `[start:stop]`.\n",
    "- This notation returns all the elements starting with the `start` item and up to (but not including) the `stop` item.\n",
    "- Grabbing multiple elements from a list of items is called taking a *slice*.\n",
    "- Taking a slice does not change the original string."
   ],
   "cell_type": "markdown",
   "metadata": {}
  },
  {
   "cell_type": "code",
   "execution_count": 8,
   "metadata": {
    "tags": []
   },
   "outputs": [
    {
     "output_type": "stream",
     "name": "stdout",
     "text": "sod\n"
    }
   ],
   "source": [
    "atom_name = 'sodium'\n",
    "print(atom_name[0:3])"
   ]
  },
  {
   "source": [
    "## Use `len()` to Find the Length of a String\n",
    "- The built-in function `len()` returns the length of a string."
   ],
   "cell_type": "markdown",
   "metadata": {}
  },
  {
   "cell_type": "code",
   "execution_count": 9,
   "metadata": {
    "tags": []
   },
   "outputs": [
    {
     "output_type": "stream",
     "name": "stdout",
     "text": "6\n"
    }
   ],
   "source": [
    "print(len('helium'))"
   ]
  },
  {
   "source": [
    "- We can nest functions.\n",
    "- Functions are executed from the inside out, like mathematics."
   ],
   "cell_type": "markdown",
   "metadata": {}
  },
  {
   "source": [
    "## Use Meaningful Variable Names\n",
    "- Be kind to potential collaborators (and your future self) by using descriptive variable names.\n",
    "- Python will still execute your code without problems as long as names are consistent, but you might not know what is going on."
   ],
   "cell_type": "markdown",
   "metadata": {}
  },
  {
   "cell_type": "code",
   "execution_count": 10,
   "metadata": {
    "tags": []
   },
   "outputs": [
    {
     "output_type": "stream",
     "name": "stdout",
     "text": "Ahmed is 42 years old.\n"
    }
   ],
   "source": [
    "flabadab = 42\n",
    "ewr_422_yY = 'Ahmed'\n",
    "print(ewr_422_yY, 'is', flabadab, 'years old.')"
   ]
  },
  {
   "source": [
    "## Exercises\n",
    "\n",
    "**What do you expect to get when running the following code? Paste it into a cell below and try it out**\n",
    "\n",
    "```python\n",
    "a = 123\n",
    "print(a[1])\n",
    "```"
   ],
   "cell_type": "markdown",
   "metadata": {}
  },
  {
   "cell_type": "code",
   "execution_count": 11,
   "metadata": {},
   "outputs": [
    {
     "output_type": "error",
     "ename": "TypeError",
     "evalue": "'int' object is not subscriptable",
     "traceback": [
      "\u001b[0;31m---------------------------------------------------------------------------\u001b[0m",
      "\u001b[0;31mTypeError\u001b[0m                                 Traceback (most recent call last)",
      "\u001b[0;32m<ipython-input-11-c761901e9428>\u001b[0m in \u001b[0;36m<module>\u001b[0;34m\u001b[0m\n\u001b[1;32m      1\u001b[0m \u001b[0ma\u001b[0m \u001b[0;34m=\u001b[0m \u001b[0;36m123\u001b[0m\u001b[0;34m\u001b[0m\u001b[0;34m\u001b[0m\u001b[0m\n\u001b[0;32m----> 2\u001b[0;31m \u001b[0mprint\u001b[0m\u001b[0;34m(\u001b[0m\u001b[0ma\u001b[0m\u001b[0;34m[\u001b[0m\u001b[0;36m1\u001b[0m\u001b[0;34m]\u001b[0m\u001b[0;34m)\u001b[0m\u001b[0;34m\u001b[0m\u001b[0;34m\u001b[0m\u001b[0m\n\u001b[0m",
      "\u001b[0;31mTypeError\u001b[0m: 'int' object is not subscriptable"
     ]
    }
   ],
   "source": [
    "a = 123\n",
    "print(a[1])"
   ]
  },
  {
   "source": [
    "- `a` is not a string; it's an integer.\n",
    "- Every object in Python has a type with its own set of behaviors.\n",
    "- You cannot index integers like you index strings."
   ],
   "cell_type": "markdown",
   "metadata": {}
  },
  {
   "source": [
    "# Lesson 03 - Data Types and Type Conversion"
   ],
   "cell_type": "markdown",
   "metadata": {}
  },
  {
   "source": [
    "## Questions\n",
    "- What kind of data types does Python provide?\n",
    "- How can I convert one type to another?\n",
    "\n",
    "## Objectives\n",
    "- Distinguish key differences between integers and floating point numbers.\n",
    "- Distinguish key differences between numbers and character strings.\n",
    "- Use built-in functions to cnovert between integers, floating-point numbers, and strings."
   ],
   "cell_type": "markdown",
   "metadata": {}
  },
  {
   "source": [
    "## Every Object has a Type\n",
    "- Every object in your Python workspace has a type.\n",
    "- A type determines an object's behavior and what you can do with that object.\n",
    "- The integer (`int`) type represents positive and negative whole numbers.\n",
    "- Strings (`str`) hold text.\n",
    "  - Strings must be contained within quotation marks (matching double or single), why?\n",
    "- Float (`float`) represents numbers with a decimal."
   ],
   "cell_type": "markdown",
   "metadata": {}
  },
  {
   "source": [
    "## Use `type()` to Find an Object's Type\n",
    "- The built-in function `type()` returns an object's data type.\n"
   ],
   "cell_type": "markdown",
   "metadata": {}
  },
  {
   "cell_type": "code",
   "execution_count": 12,
   "metadata": {
    "tags": []
   },
   "outputs": [
    {
     "output_type": "stream",
     "name": "stdout",
     "text": "<class 'int'>\n"
    }
   ],
   "source": [
    "print(type(52))"
   ]
  },
  {
   "cell_type": "code",
   "execution_count": 13,
   "metadata": {
    "tags": []
   },
   "outputs": [
    {
     "output_type": "stream",
     "name": "stdout",
     "text": "<class 'str'>\n"
    }
   ],
   "source": [
    "fitness = 'average'\n",
    "print(type(fitness))"
   ]
  },
  {
   "source": [
    "## Types Control Valid Operations for an Object\n",
    "-  An object's type determines what you can do with it."
   ],
   "cell_type": "markdown",
   "metadata": {}
  },
  {
   "cell_type": "code",
   "execution_count": 14,
   "metadata": {
    "tags": []
   },
   "outputs": [
    {
     "output_type": "stream",
     "name": "stdout",
     "text": "2\n"
    }
   ],
   "source": [
    "print(5 - 3)"
   ]
  },
  {
   "cell_type": "code",
   "execution_count": 15,
   "metadata": {},
   "outputs": [
    {
     "output_type": "error",
     "ename": "TypeError",
     "evalue": "unsupported operand type(s) for -: 'str' and 'str'",
     "traceback": [
      "\u001b[0;31m---------------------------------------------------------------------------\u001b[0m",
      "\u001b[0;31mTypeError\u001b[0m                                 Traceback (most recent call last)",
      "\u001b[0;32m<ipython-input-15-35e8597b28d6>\u001b[0m in \u001b[0;36m<module>\u001b[0;34m\u001b[0m\n\u001b[0;32m----> 1\u001b[0;31m \u001b[0mprint\u001b[0m\u001b[0;34m(\u001b[0m\u001b[0;34m'hello'\u001b[0m \u001b[0;34m-\u001b[0m \u001b[0;34m'h'\u001b[0m\u001b[0;34m)\u001b[0m\u001b[0;34m\u001b[0m\u001b[0;34m\u001b[0m\u001b[0m\n\u001b[0m",
      "\u001b[0;31mTypeError\u001b[0m: unsupported operand type(s) for -: 'str' and 'str'"
     ]
    }
   ],
   "source": [
    "print('hello' - 'h')"
   ]
  },
  {
   "source": [
    "## Strings can be Added and Multiplied\n",
    "- The string type allows you to add and multiply with strings.\n",
    "- What behavior to you expect in the following two cells?"
   ],
   "cell_type": "markdown",
   "metadata": {}
  },
  {
   "cell_type": "code",
   "execution_count": 16,
   "metadata": {
    "tags": []
   },
   "outputs": [
    {
     "output_type": "stream",
     "name": "stdout",
     "text": "Ahmed Walsh\n"
    }
   ],
   "source": [
    "full_name = 'Ahmed' + ' ' + 'Walsh'\n",
    "print(full_name)"
   ]
  },
  {
   "cell_type": "code",
   "execution_count": 17,
   "metadata": {
    "tags": []
   },
   "outputs": [
    {
     "output_type": "stream",
     "name": "stdout",
     "text": "==========\n"
    }
   ],
   "source": [
    "separator = '=' * 10\n",
    "print(separator)"
   ]
  },
  {
   "source": [
    "## Strings have a Length\n",
    "- But numbers don't ..."
   ],
   "cell_type": "markdown",
   "metadata": {}
  },
  {
   "cell_type": "code",
   "execution_count": 18,
   "metadata": {
    "tags": []
   },
   "outputs": [
    {
     "output_type": "stream",
     "name": "stdout",
     "text": "11\n"
    }
   ],
   "source": [
    "print(len(full_name))"
   ]
  },
  {
   "cell_type": "code",
   "execution_count": 19,
   "metadata": {},
   "outputs": [
    {
     "output_type": "error",
     "ename": "TypeError",
     "evalue": "object of type 'int' has no len()",
     "traceback": [
      "\u001b[0;31m---------------------------------------------------------------------------\u001b[0m",
      "\u001b[0;31mTypeError\u001b[0m                                 Traceback (most recent call last)",
      "\u001b[0;32m<ipython-input-19-8e77a6522867>\u001b[0m in \u001b[0;36m<module>\u001b[0;34m\u001b[0m\n\u001b[0;32m----> 1\u001b[0;31m \u001b[0mprint\u001b[0m\u001b[0;34m(\u001b[0m\u001b[0mlen\u001b[0m\u001b[0;34m(\u001b[0m\u001b[0;36m52\u001b[0m\u001b[0;34m)\u001b[0m\u001b[0;34m)\u001b[0m\u001b[0;34m\u001b[0m\u001b[0;34m\u001b[0m\u001b[0m\n\u001b[0m",
      "\u001b[0;31mTypeError\u001b[0m: object of type 'int' has no len()"
     ]
    }
   ],
   "source": [
    "print(len(52))"
   ]
  },
  {
   "source": [
    "## Converting Between Types\n",
    "- We cannot add numbers and strings."
   ],
   "cell_type": "markdown",
   "metadata": {}
  },
  {
   "cell_type": "code",
   "execution_count": 20,
   "metadata": {},
   "outputs": [
    {
     "output_type": "error",
     "ename": "TypeError",
     "evalue": "unsupported operand type(s) for +: 'int' and 'str'",
     "traceback": [
      "\u001b[0;31m---------------------------------------------------------------------------\u001b[0m",
      "\u001b[0;31mTypeError\u001b[0m                                 Traceback (most recent call last)",
      "\u001b[0;32m<ipython-input-20-013270d67d3d>\u001b[0m in \u001b[0;36m<module>\u001b[0;34m\u001b[0m\n\u001b[0;32m----> 1\u001b[0;31m \u001b[0mprint\u001b[0m\u001b[0;34m(\u001b[0m\u001b[0;36m1\u001b[0m \u001b[0;34m+\u001b[0m \u001b[0;34m'2'\u001b[0m\u001b[0;34m)\u001b[0m\u001b[0;34m\u001b[0m\u001b[0;34m\u001b[0m\u001b[0m\n\u001b[0m",
      "\u001b[0;31mTypeError\u001b[0m: unsupported operand type(s) for +: 'int' and 'str'"
     ]
    }
   ],
   "source": [
    "print(1 + '2')"
   ]
  },
  {
   "source": [
    "- Python doesn't know how to convert types since the answer could be either `3` or `'12'`.\n",
    "- You can convert some types by using the type name as a function."
   ],
   "cell_type": "markdown",
   "metadata": {}
  },
  {
   "cell_type": "code",
   "execution_count": 21,
   "metadata": {
    "tags": []
   },
   "outputs": [
    {
     "output_type": "stream",
     "name": "stdout",
     "text": "3\n12\n"
    }
   ],
   "source": [
    "print(1 + int('2'))\n",
    "print(str(1) + '2')"
   ]
  },
  {
   "source": [
    "## Integers and Floats Mix Freely\n",
    "- You can mix integers and floats freely in operations and Python knows what to do."
   ],
   "cell_type": "markdown",
   "metadata": {}
  },
  {
   "cell_type": "code",
   "execution_count": 22,
   "metadata": {
    "tags": []
   },
   "outputs": [
    {
     "output_type": "stream",
     "name": "stdout",
     "text": "Half is 0.5\nThree squared is 9.0\n"
    }
   ],
   "source": [
    "print('Half is', 1 / 2.0)\n",
    "print('Three squared is', 3.0 ** 2)"
   ]
  },
  {
   "source": [
    "- Python automatically does floating-point division."
   ],
   "cell_type": "markdown",
   "metadata": {}
  },
  {
   "cell_type": "code",
   "execution_count": 23,
   "metadata": {
    "tags": []
   },
   "outputs": [
    {
     "output_type": "stream",
     "name": "stdout",
     "text": "1.5\n"
    }
   ],
   "source": [
    "print(3/2)"
   ]
  },
  {
   "source": [
    "- Use `//` to compute integer division."
   ],
   "cell_type": "markdown",
   "metadata": {}
  },
  {
   "cell_type": "code",
   "execution_count": 24,
   "metadata": {
    "tags": []
   },
   "outputs": [
    {
     "output_type": "stream",
     "name": "stdout",
     "text": "1\n"
    }
   ],
   "source": [
    "print(3//2)"
   ]
  },
  {
   "source": [
    "## Changing a Variable's Value\n",
    "- Variables only change when you assign a new value to them.\n",
    "- While spreadsheets automatically update dependent cells, Python only updates variables when they are explicitly changed."
   ],
   "cell_type": "markdown",
   "metadata": {}
  },
  {
   "cell_type": "code",
   "execution_count": 25,
   "metadata": {
    "tags": []
   },
   "outputs": [
    {
     "output_type": "stream",
     "name": "stdout",
     "text": "First is 2 and second is 5\n"
    }
   ],
   "source": [
    "first = 1\n",
    "second = 5 * first\n",
    "first = 2\n",
    "print('First is', first, 'and second is', second)"
   ]
  },
  {
   "source": [
    "- `second` did not automatically update when we updated `first`."
   ],
   "cell_type": "markdown",
   "metadata": {}
  },
  {
   "source": [
    "## Exercises"
   ],
   "cell_type": "markdown",
   "metadata": {}
  },
  {
   "source": [
    "**When reasonable, `float()` will convert a string to a number, and `int()` will convert a floating-point number to an integer. What do you expect to get when running the following code blocks? Try it out.**\n",
    "\n",
    "- String to number, and float to integer:\n",
    "\n",
    "```python\n",
    "print('String to float:', float('3.4'))\n",
    "print('Float to integer:', int(3.4))\n",
    "```\n",
    "\n",
    "- Another string to number:\n",
    "\n",
    "```python\n",
    "print('String to float:', float('Hellow world!))\n",
    "```\n",
    "\n",
    "**Given this information, what do you expect this code to do?**\n",
    "\n",
    "```python\n",
    "int('3.4')\n",
    "```\n",
    "\n",
    "**How do we fix it?**"
   ],
   "cell_type": "markdown",
   "metadata": {}
  },
  {
   "cell_type": "code",
   "execution_count": 26,
   "metadata": {
    "tags": []
   },
   "outputs": [
    {
     "output_type": "stream",
     "name": "stdout",
     "text": "String to float: 3.4\nFloat to integer: 3\n"
    }
   ],
   "source": [
    "print('String to float:', float('3.4'))\n",
    "print('Float to integer:', int(3.4))"
   ]
  },
  {
   "cell_type": "code",
   "execution_count": 27,
   "metadata": {},
   "outputs": [
    {
     "output_type": "error",
     "ename": "ValueError",
     "evalue": "could not convert string to float: 'Hello world!'",
     "traceback": [
      "\u001b[0;31m---------------------------------------------------------------------------\u001b[0m",
      "\u001b[0;31mValueError\u001b[0m                                Traceback (most recent call last)",
      "\u001b[0;32m<ipython-input-27-e882b076f7fd>\u001b[0m in \u001b[0;36m<module>\u001b[0;34m\u001b[0m\n\u001b[0;32m----> 1\u001b[0;31m \u001b[0mprint\u001b[0m\u001b[0;34m(\u001b[0m\u001b[0;34m'String to float:'\u001b[0m\u001b[0;34m,\u001b[0m \u001b[0mfloat\u001b[0m\u001b[0;34m(\u001b[0m\u001b[0;34m'Hello world!'\u001b[0m\u001b[0;34m)\u001b[0m\u001b[0;34m)\u001b[0m\u001b[0;34m\u001b[0m\u001b[0;34m\u001b[0m\u001b[0m\n\u001b[0m",
      "\u001b[0;31mValueError\u001b[0m: could not convert string to float: 'Hello world!'"
     ]
    }
   ],
   "source": [
    "print('String to float:', float('Hello world!'))"
   ]
  },
  {
   "cell_type": "code",
   "execution_count": 28,
   "metadata": {},
   "outputs": [
    {
     "output_type": "error",
     "ename": "ValueError",
     "evalue": "invalid literal for int() with base 10: '3.4'",
     "traceback": [
      "\u001b[0;31m---------------------------------------------------------------------------\u001b[0m",
      "\u001b[0;31mValueError\u001b[0m                                Traceback (most recent call last)",
      "\u001b[0;32m<ipython-input-28-5e199bebc801>\u001b[0m in \u001b[0;36m<module>\u001b[0;34m\u001b[0m\n\u001b[0;32m----> 1\u001b[0;31m \u001b[0mint\u001b[0m\u001b[0;34m(\u001b[0m\u001b[0;34m'3.4'\u001b[0m\u001b[0;34m)\u001b[0m\u001b[0;34m\u001b[0m\u001b[0;34m\u001b[0m\u001b[0m\n\u001b[0m",
      "\u001b[0;31mValueError\u001b[0m: invalid literal for int() with base 10: '3.4'"
     ]
    }
   ],
   "source": [
    "int('3.4')"
   ]
  },
  {
   "cell_type": "code",
   "execution_count": 29,
   "metadata": {},
   "outputs": [
    {
     "output_type": "execute_result",
     "data": {
      "text/plain": "3"
     },
     "metadata": {},
     "execution_count": 29
    }
   ],
   "source": [
    "int(float('3.4'))"
   ]
  },
  {
   "source": [
    "**Knowing what you know now, how do we index the second digit from `a = 123`?**"
   ],
   "cell_type": "markdown",
   "metadata": {}
  },
  {
   "cell_type": "code",
   "execution_count": 30,
   "metadata": {
    "tags": []
   },
   "outputs": [
    {
     "output_type": "stream",
     "name": "stdout",
     "text": "2\n"
    }
   ],
   "source": [
    "a = 123\n",
    "a_string = str(a)\n",
    "print(int(a_string[1]))"
   ]
  },
  {
   "source": [
    "# Lesson 04 - Built-In Functions and Help"
   ],
   "cell_type": "markdown",
   "metadata": {}
  },
  {
   "source": [
    "## Questions\n",
    "- How can I find out what built-in functions do?\n",
    "- What kind of errors can occur in a program?\n",
    "\n",
    "## Objectives\n",
    "- Explain the purpose of functions.\n",
    "- Call built-in Python functions.\n",
    "- Use help to display documentation for built-in functions.\n",
    "- Describe situations in which `SyntaxError`s and `NameError`s occur."
   ],
   "cell_type": "markdown",
   "metadata": {}
  },
  {
   "source": [
    "## A Quick Note on Comments\n",
    "- Be sure to use descriptive comments to document your code."
   ],
   "cell_type": "markdown",
   "metadata": {}
  },
  {
   "cell_type": "code",
   "execution_count": 31,
   "metadata": {},
   "outputs": [],
   "source": [
    "# This sentence isn't executed by Python\n",
    "adjustment = 0.5 # Neither is this - anything after `#` is ignored."
   ]
  },
  {
   "source": [
    "## Calling Functions\n",
    "- An *argument* is a value that is *passed* to a function.\n",
    "- Functions may take zero or more arguments.\n",
    "- `len()` takes exactly one argument.\n",
    "- `int()`, `str()`, and `float()` create new values from an existing one.\n",
    "- What arguments a function takes depends on how it has been defined.\n",
    "- They key to remember is a function takes zero or more arguments (inputs) and produces some output."
   ],
   "cell_type": "markdown",
   "metadata": {}
  },
  {
   "source": [
    "- Even when a function takes zero parameters, you must use parenthesis so Python knows you are calling a function."
   ],
   "cell_type": "markdown",
   "metadata": {}
  },
  {
   "cell_type": "code",
   "execution_count": 32,
   "metadata": {
    "tags": []
   },
   "outputs": [
    {
     "output_type": "stream",
     "name": "stdout",
     "text": "before\n\nafter\n"
    }
   ],
   "source": [
    "print('before')\n",
    "print()             # Print with no arguments prints a blank line\n",
    "print('after')"
   ]
  },
  {
   "source": [
    "## Some Common Built-In Functions\n",
    "- `max()` returns the larges value of one or more values.\n",
    "- `min()` returns the smallest.\n",
    "- Both work on character strings as well.\n",
    "  - Both use 0-9, A-Z, and a-z to decide what is large and what is small."
   ],
   "cell_type": "markdown",
   "metadata": {}
  },
  {
   "cell_type": "code",
   "execution_count": 33,
   "metadata": {
    "tags": []
   },
   "outputs": [
    {
     "output_type": "stream",
     "name": "stdout",
     "text": "3\n0\n"
    }
   ],
   "source": [
    "print(max(1, 2, 3))\n",
    "print(min('a', 'A', '0'))"
   ]
  },
  {
   "source": [
    "## Mixing Arguments\n",
    "- Functions might only work for certain combinations of arguments."
   ],
   "cell_type": "markdown",
   "metadata": {}
  },
  {
   "cell_type": "code",
   "execution_count": 34,
   "metadata": {},
   "outputs": [
    {
     "output_type": "error",
     "ename": "TypeError",
     "evalue": "'>' not supported between instances of 'str' and 'int'",
     "traceback": [
      "\u001b[0;31m---------------------------------------------------------------------------\u001b[0m",
      "\u001b[0;31mTypeError\u001b[0m                                 Traceback (most recent call last)",
      "\u001b[0;32m<ipython-input-34-3f049acf3762>\u001b[0m in \u001b[0;36m<module>\u001b[0;34m\u001b[0m\n\u001b[0;32m----> 1\u001b[0;31m \u001b[0mprint\u001b[0m\u001b[0;34m(\u001b[0m\u001b[0mmax\u001b[0m\u001b[0;34m(\u001b[0m\u001b[0;36m1\u001b[0m\u001b[0;34m,\u001b[0m \u001b[0;34m'a'\u001b[0m\u001b[0;34m)\u001b[0m\u001b[0;34m)\u001b[0m\u001b[0;34m\u001b[0m\u001b[0;34m\u001b[0m\u001b[0m\n\u001b[0m",
      "\u001b[0;31mTypeError\u001b[0m: '>' not supported between instances of 'str' and 'int'"
     ]
    }
   ],
   "source": [
    "print(max(1, 'a'))"
   ]
  },
  {
   "source": [
    "## Default Values\n",
    "- Some functions have pre-defined default values.\n",
    "- `round()` defaults to zero decimal places, but you can specify more explicitly."
   ],
   "cell_type": "markdown",
   "metadata": {}
  },
  {
   "cell_type": "code",
   "execution_count": 35,
   "metadata": {},
   "outputs": [
    {
     "output_type": "execute_result",
     "data": {
      "text/plain": "4"
     },
     "metadata": {},
     "execution_count": 35
    }
   ],
   "source": [
    "round(3.712)"
   ]
  },
  {
   "cell_type": "code",
   "execution_count": 36,
   "metadata": {},
   "outputs": [
    {
     "output_type": "execute_result",
     "data": {
      "text/plain": "3.7"
     },
     "metadata": {},
     "execution_count": 36
    }
   ],
   "source": [
    "round(3.712, 1)"
   ]
  },
  {
   "source": [
    "## Getting Help\n",
    "- Each function comes with built-in documentation.\n",
    "- Use `help()` to look up how to use a function."
   ],
   "cell_type": "markdown",
   "metadata": {}
  },
  {
   "cell_type": "code",
   "execution_count": 37,
   "metadata": {
    "tags": []
   },
   "outputs": [
    {
     "output_type": "stream",
     "name": "stdout",
     "text": "Help on built-in function round in module builtins:\n\nround(number, ndigits=None)\n    Round a number to a given precision in decimal digits.\n    \n    The return value is an integer if ndigits is omitted or None.  Otherwise\n    the return value has the same type as the number.  ndigits may be negative.\n\n"
    }
   ],
   "source": [
    "help(round)"
   ]
  },
  {
   "source": [
    "- Jupyter notebooks also support clicking on the function and holding <kbd>Shift</kbd>+<kbd>Tab</kbd>."
   ],
   "cell_type": "markdown",
   "metadata": {}
  },
  {
   "source": [
    "## Syntax Errors\n",
    "- If code is typed incorrectly, Python reports a `SytaxError`."
   ],
   "cell_type": "markdown",
   "metadata": {}
  },
  {
   "cell_type": "code",
   "execution_count": 38,
   "metadata": {},
   "outputs": [
    {
     "output_type": "error",
     "ename": "SyntaxError",
     "evalue": "EOL while scanning string literal (<ipython-input-38-21050ec4d4a3>, line 2)",
     "traceback": [
      "\u001b[0;36m  File \u001b[0;32m\"<ipython-input-38-21050ec4d4a3>\"\u001b[0;36m, line \u001b[0;32m2\u001b[0m\n\u001b[0;31m    name = 'Feng\u001b[0m\n\u001b[0m                ^\u001b[0m\n\u001b[0;31mSyntaxError\u001b[0m\u001b[0;31m:\u001b[0m EOL while scanning string literal\n"
     ]
    }
   ],
   "source": [
    "# Forgot to close the quote marks around the string\n",
    "name = 'Feng"
   ]
  },
  {
   "cell_type": "code",
   "execution_count": 39,
   "metadata": {},
   "outputs": [
    {
     "output_type": "error",
     "ename": "SyntaxError",
     "evalue": "invalid syntax (<ipython-input-39-51e742de2b74>, line 2)",
     "traceback": [
      "\u001b[0;36m  File \u001b[0;32m\"<ipython-input-39-51e742de2b74>\"\u001b[0;36m, line \u001b[0;32m2\u001b[0m\n\u001b[0;31m    age = = 52\u001b[0m\n\u001b[0m          ^\u001b[0m\n\u001b[0;31mSyntaxError\u001b[0m\u001b[0;31m:\u001b[0m invalid syntax\n"
     ]
    }
   ],
   "source": [
    "# An extra `=` in the assignment\n",
    "age = = 52"
   ]
  },
  {
   "cell_type": "code",
   "execution_count": 40,
   "metadata": {},
   "outputs": [
    {
     "output_type": "error",
     "ename": "SyntaxError",
     "evalue": "unexpected EOF while parsing (<ipython-input-40-7b9f7a40f599>, line 1)",
     "traceback": [
      "\u001b[0;36m  File \u001b[0;32m\"<ipython-input-40-7b9f7a40f599>\"\u001b[0;36m, line \u001b[0;32m1\u001b[0m\n\u001b[0;31m    print('hello world'\u001b[0m\n\u001b[0m                       ^\u001b[0m\n\u001b[0;31mSyntaxError\u001b[0m\u001b[0;31m:\u001b[0m unexpected EOF while parsing\n"
     ]
    }
   ],
   "source": [
    "print('hello world'"
   ]
  },
  {
   "source": [
    "- Python tries to point out the source of the error with the `^`.\n",
    "- Often the most important part of the error message is the last line.\n",
    "- Do not forget you can Google if an error doesn't make sense."
   ],
   "cell_type": "markdown",
   "metadata": {}
  },
  {
   "source": [
    "## Runtime Errors\n",
    "- Runtime errors (like `NameError`) occur when something goes wrong while the program is running."
   ],
   "cell_type": "markdown",
   "metadata": {}
  },
  {
   "cell_type": "code",
   "execution_count": 41,
   "metadata": {},
   "outputs": [
    {
     "output_type": "error",
     "ename": "NameError",
     "evalue": "name 'aege' is not defined",
     "traceback": [
      "\u001b[0;31m---------------------------------------------------------------------------\u001b[0m",
      "\u001b[0;31mNameError\u001b[0m                                 Traceback (most recent call last)",
      "\u001b[0;32m<ipython-input-41-19cbc7eb3761>\u001b[0m in \u001b[0;36m<module>\u001b[0;34m\u001b[0m\n\u001b[1;32m      1\u001b[0m \u001b[0mage\u001b[0m \u001b[0;34m=\u001b[0m \u001b[0;36m53\u001b[0m\u001b[0;34m\u001b[0m\u001b[0;34m\u001b[0m\u001b[0m\n\u001b[0;32m----> 2\u001b[0;31m \u001b[0mremaining\u001b[0m \u001b[0;34m=\u001b[0m \u001b[0;36m100\u001b[0m \u001b[0;34m-\u001b[0m \u001b[0maege\u001b[0m  \u001b[0;31m# Spelled 'age' wrong\u001b[0m\u001b[0;34m\u001b[0m\u001b[0;34m\u001b[0m\u001b[0m\n\u001b[0m",
      "\u001b[0;31mNameError\u001b[0m: name 'aege' is not defined"
     ]
    }
   ],
   "source": [
    "age = 53\n",
    "remaining = 100 - aege  # Spelled 'age' wrong"
   ]
  },
  {
   "source": [
    "## Every Function Returns Something"
   ],
   "cell_type": "markdown",
   "metadata": {}
  },
  {
   "source": [
    "- Python requires every function to return something.\n",
    "- If a function doesn't return something, Python forces it to return the special datatype `None`."
   ],
   "cell_type": "markdown",
   "metadata": {}
  },
  {
   "cell_type": "code",
   "execution_count": 42,
   "metadata": {
    "tags": []
   },
   "outputs": [
    {
     "output_type": "stream",
     "name": "stdout",
     "text": "example\nThe result of print is None\n"
    }
   ],
   "source": [
    "result = print('example')\n",
    "print('The result of print is', result)"
   ]
  },
  {
   "source": [
    "## Exercises\n",
    "\n",
    "**Why don't `max` and `min` return `None` when they are not given arguments? What error message do you get when you try it out?"
   ],
   "cell_type": "markdown",
   "metadata": {}
  },
  {
   "cell_type": "code",
   "execution_count": 43,
   "metadata": {},
   "outputs": [
    {
     "output_type": "error",
     "ename": "TypeError",
     "evalue": "max expected 1 arguments, got 0",
     "traceback": [
      "\u001b[0;31m---------------------------------------------------------------------------\u001b[0m",
      "\u001b[0;31mTypeError\u001b[0m                                 Traceback (most recent call last)",
      "\u001b[0;32m<ipython-input-43-f870ea12a3fc>\u001b[0m in \u001b[0;36m<module>\u001b[0;34m\u001b[0m\n\u001b[0;32m----> 1\u001b[0;31m \u001b[0mmax\u001b[0m\u001b[0;34m(\u001b[0m\u001b[0;34m)\u001b[0m\u001b[0;34m\u001b[0m\u001b[0;34m\u001b[0m\u001b[0m\n\u001b[0m",
      "\u001b[0;31mTypeError\u001b[0m: max expected 1 arguments, got 0"
     ]
    }
   ],
   "source": [
    "max()"
   ]
  },
  {
   "cell_type": "code",
   "execution_count": 44,
   "metadata": {},
   "outputs": [
    {
     "output_type": "error",
     "ename": "TypeError",
     "evalue": "min expected 1 arguments, got 0",
     "traceback": [
      "\u001b[0;31m---------------------------------------------------------------------------\u001b[0m",
      "\u001b[0;31mTypeError\u001b[0m                                 Traceback (most recent call last)",
      "\u001b[0;32m<ipython-input-44-9c9b7bdfea4e>\u001b[0m in \u001b[0;36m<module>\u001b[0;34m\u001b[0m\n\u001b[0;32m----> 1\u001b[0;31m \u001b[0mmin\u001b[0m\u001b[0;34m(\u001b[0m\u001b[0;34m)\u001b[0m\u001b[0;34m\u001b[0m\u001b[0;34m\u001b[0m\u001b[0m\n\u001b[0m",
      "\u001b[0;31mTypeError\u001b[0m: min expected 1 arguments, got 0"
     ]
    }
   ],
   "source": [
    "min()"
   ]
  },
  {
   "source": [
    "- Both `max()` and `min()` require at least one argument.\n",
    "- This design means the function throws an error immediately instead of getting an unexpected `None`.\n",
    "- Having an unexpected `None` in a variable may create a runtime error later and be harder to fix."
   ],
   "cell_type": "markdown",
   "metadata": {}
  },
  {
   "source": [
    "# Lesson 05 - Libraries"
   ],
   "cell_type": "markdown",
   "metadata": {}
  },
  {
   "source": [
    "## Questions:\n",
    "- How can I use software that other people have written?\n",
    "- How can I find out what that software does?\n",
    "\n",
    "## Objectives\n",
    "- Explain what software libraries are and why programmers create and use them.\n",
    "- Write programs that import and use modules from Python's standard library.\n",
    "- Find and read documentation for the standard library interactively."
   ],
   "cell_type": "markdown",
   "metadata": {}
  },
  {
   "source": [
    "## Expanding Python's Capabilities\n",
    "- A *library* is a collection of code that we can import into our environment to expand Python's base functionalities.\n",
    "- Libraries contain functions and constants that will save us time coding from scratch.\n",
    "- The contents of a library should be related, but there is no way to enforce this convention.\n",
    "- Python already comes with the [standard library](https://docs.python.org/3/library/) which gives it a lot of functionality.\n",
    "- Single files within a library are called *modules*.\n",
    "- We typically load only the modules we need for our program.\n",
    "- Other libraries/modules like [NumPy](https://numpy.org/), [math](https://docs.python.org/3/library/math.html) (part of the standard library), and [Pandas](https://pandas.pydata.org/) give us extra tools for working with math functions and data.\n",
    "- You can find many other libraries at the [Python Package Index (PyPI)](https://pypi.org/)."
   ],
   "cell_type": "markdown",
   "metadata": {}
  },
  {
   "source": [
    "## Importing a Module\n",
    "- Use `import` to load a module into your program.\n",
    "- Python uses dot notation (`.`) to indicate something belongs to something else.\n",
    "- To use functions in the module, type `module_name.function_name`."
   ],
   "cell_type": "markdown",
   "metadata": {}
  },
  {
   "cell_type": "code",
   "execution_count": 45,
   "metadata": {
    "tags": []
   },
   "outputs": [
    {
     "output_type": "stream",
     "name": "stdout",
     "text": "Pi is 3.141592653589793\ncos(pi) is -1.0\n"
    }
   ],
   "source": [
    "import math\n",
    "\n",
    "print('Pi is', math.pi)\n",
    "print('cos(pi) is', math.cos(math.pi))"
   ]
  },
  {
   "source": [
    "## Getting Help\n",
    "- You can use `help()` to learn about the contents of a module."
   ],
   "cell_type": "markdown",
   "metadata": {}
  },
  {
   "cell_type": "code",
   "execution_count": 46,
   "metadata": {
    "tags": []
   },
   "outputs": [
    {
     "output_type": "stream",
     "name": "stdout",
     "text": "Help on module math:\n\nNAME\n    math\n\nMODULE REFERENCE\n    https://docs.python.org/3.7/library/math\n    \n    The following documentation is automatically generated from the Python\n    source files.  It may be incomplete, incorrect or include features that\n    are considered implementation detail and may vary between Python\n    implementations.  When in doubt, consult the module reference at the\n    location listed above.\n\nDESCRIPTION\n    This module provides access to the mathematical functions\n    defined by the C standard.\n\nFUNCTIONS\n    acos(x, /)\n        Return the arc cosine (measured in radians) of x.\n    \n    acosh(x, /)\n        Return the inverse hyperbolic cosine of x.\n    \n    asin(x, /)\n        Return the arc sine (measured in radians) of x.\n    \n    asinh(x, /)\n        Return the inverse hyperbolic sine of x.\n    \n    atan(x, /)\n        Return the arc tangent (measured in radians) of x.\n    \n    atan2(y, x, /)\n        Return the arc tangent (measured in radians) of y/x.\n        \n        Unlike atan(y/x), the signs of both x and y are considered.\n    \n    atanh(x, /)\n        Return the inverse hyperbolic tangent of x.\n    \n    ceil(x, /)\n        Return the ceiling of x as an Integral.\n        \n        This is the smallest integer >= x.\n    \n    copysign(x, y, /)\n        Return a float with the magnitude (absolute value) of x but the sign of y.\n        \n        On platforms that support signed zeros, copysign(1.0, -0.0)\n        returns -1.0.\n    \n    cos(x, /)\n        Return the cosine of x (measured in radians).\n    \n    cosh(x, /)\n        Return the hyperbolic cosine of x.\n    \n    degrees(x, /)\n        Convert angle x from radians to degrees.\n    \n    erf(x, /)\n        Error function at x.\n    \n    erfc(x, /)\n        Complementary error function at x.\n    \n    exp(x, /)\n        Return e raised to the power of x.\n    \n    expm1(x, /)\n        Return exp(x)-1.\n        \n        This function avoids the loss of precision involved in the direct evaluation of exp(x)-1 for small x.\n    \n    fabs(x, /)\n        Return the absolute value of the float x.\n    \n    factorial(x, /)\n        Find x!.\n        \n        Raise a ValueError if x is negative or non-integral.\n    \n    floor(x, /)\n        Return the floor of x as an Integral.\n        \n        This is the largest integer <= x.\n    \n    fmod(x, y, /)\n        Return fmod(x, y), according to platform C.\n        \n        x % y may differ.\n    \n    frexp(x, /)\n        Return the mantissa and exponent of x, as pair (m, e).\n        \n        m is a float and e is an int, such that x = m * 2.**e.\n        If x is 0, m and e are both 0.  Else 0.5 <= abs(m) < 1.0.\n    \n    fsum(seq, /)\n        Return an accurate floating point sum of values in the iterable seq.\n        \n        Assumes IEEE-754 floating point arithmetic.\n    \n    gamma(x, /)\n        Gamma function at x.\n    \n    gcd(x, y, /)\n        greatest common divisor of x and y\n    \n    hypot(x, y, /)\n        Return the Euclidean distance, sqrt(x*x + y*y).\n    \n    isclose(a, b, *, rel_tol=1e-09, abs_tol=0.0)\n        Determine whether two floating point numbers are close in value.\n        \n          rel_tol\n            maximum difference for being considered \"close\", relative to the\n            magnitude of the input values\n          abs_tol\n            maximum difference for being considered \"close\", regardless of the\n            magnitude of the input values\n        \n        Return True if a is close in value to b, and False otherwise.\n        \n        For the values to be considered close, the difference between them\n        must be smaller than at least one of the tolerances.\n        \n        -inf, inf and NaN behave similarly to the IEEE 754 Standard.  That\n        is, NaN is not close to anything, even itself.  inf and -inf are\n        only close to themselves.\n    \n    isfinite(x, /)\n        Return True if x is neither an infinity nor a NaN, and False otherwise.\n    \n    isinf(x, /)\n        Return True if x is a positive or negative infinity, and False otherwise.\n    \n    isnan(x, /)\n        Return True if x is a NaN (not a number), and False otherwise.\n    \n    ldexp(x, i, /)\n        Return x * (2**i).\n        \n        This is essentially the inverse of frexp().\n    \n    lgamma(x, /)\n        Natural logarithm of absolute value of Gamma function at x.\n    \n    log(...)\n        log(x, [base=math.e])\n        Return the logarithm of x to the given base.\n        \n        If the base not specified, returns the natural logarithm (base e) of x.\n    \n    log10(x, /)\n        Return the base 10 logarithm of x.\n    \n    log1p(x, /)\n        Return the natural logarithm of 1+x (base e).\n        \n        The result is computed in a way which is accurate for x near zero.\n    \n    log2(x, /)\n        Return the base 2 logarithm of x.\n    \n    modf(x, /)\n        Return the fractional and integer parts of x.\n        \n        Both results carry the sign of x and are floats.\n    \n    pow(x, y, /)\n        Return x**y (x to the power of y).\n    \n    radians(x, /)\n        Convert angle x from degrees to radians.\n    \n    remainder(x, y, /)\n        Difference between x and the closest integer multiple of y.\n        \n        Return x - n*y where n*y is the closest integer multiple of y.\n        In the case where x is exactly halfway between two multiples of\n        y, the nearest even value of n is used. The result is always exact.\n    \n    sin(x, /)\n        Return the sine of x (measured in radians).\n    \n    sinh(x, /)\n        Return the hyperbolic sine of x.\n    \n    sqrt(x, /)\n        Return the square root of x.\n    \n    tan(x, /)\n        Return the tangent of x (measured in radians).\n    \n    tanh(x, /)\n        Return the hyperbolic tangent of x.\n    \n    trunc(x, /)\n        Truncates the Real x to the nearest Integral toward 0.\n        \n        Uses the __trunc__ magic method.\n\nDATA\n    e = 2.718281828459045\n    inf = inf\n    nan = nan\n    pi = 3.141592653589793\n    tau = 6.283185307179586\n\nFILE\n    /home/dufei/anaconda3/lib/python3.7/lib-dynload/math.cpython-37m-x86_64-linux-gnu.so\n\n\n"
    }
   ],
   "source": [
    "help(math)"
   ]
  },
  {
   "source": [
    "# Module Shorthand Conventions\n",
    "- We can import specific items from a module.\n",
    "- This way we don't need to always type the module name."
   ],
   "cell_type": "markdown",
   "metadata": {}
  },
  {
   "cell_type": "code",
   "execution_count": 48,
   "metadata": {
    "tags": []
   },
   "outputs": [
    {
     "output_type": "stream",
     "name": "stdout",
     "text": "cos(pi) is -1.0\n"
    }
   ],
   "source": [
    "from math import cos, pi\n",
    "\n",
    "print('cos(pi) is', cos(pi))"
   ]
  },
  {
   "source": [
    "- You can also create an alias for a module name and then use that shorthand in your code."
   ],
   "cell_type": "markdown",
   "metadata": {}
  },
  {
   "cell_type": "code",
   "execution_count": 49,
   "metadata": {
    "tags": []
   },
   "outputs": [
    {
     "output_type": "stream",
     "name": "stdout",
     "text": "cos(pi) is -1.0\n"
    }
   ],
   "source": [
    "import math as m\n",
    "\n",
    "print('cos(pi) is', m.cos(m.pi))"
   ]
  },
  {
   "source": [
    "- Different library communities often come to consensus on an agreed shorthand.\n",
    "- An example of this is the convention used by the Pandas community.\n",
    "\n",
    "```python\n",
    "import pandas as pd\n",
    "```\n",
    "\n",
    "- If a given alias is convention it is probably harmless, but do not forget that aliases can cause your code to be difficult to understand."
   ],
   "cell_type": "markdown",
   "metadata": {}
  },
  {
   "source": [
    "## Exercises\n",
    "\n",
    "**When a colleague types `help(math)`, they get the following error:**\n",
    "\n",
    "```python\n",
    "NameError: name 'math' is not defined\n",
    "```\n",
    "\n",
    "**What did they forget to do?**"
   ],
   "cell_type": "markdown",
   "metadata": {}
  },
  {
   "cell_type": "code",
   "execution_count": 50,
   "metadata": {
    "tags": []
   },
   "outputs": [
    {
     "output_type": "stream",
     "name": "stdout",
     "text": "Help on module math:\n\nNAME\n    math\n\nMODULE REFERENCE\n    https://docs.python.org/3.7/library/math\n    \n    The following documentation is automatically generated from the Python\n    source files.  It may be incomplete, incorrect or include features that\n    are considered implementation detail and may vary between Python\n    implementations.  When in doubt, consult the module reference at the\n    location listed above.\n\nDESCRIPTION\n    This module provides access to the mathematical functions\n    defined by the C standard.\n\nFUNCTIONS\n    acos(x, /)\n        Return the arc cosine (measured in radians) of x.\n    \n    acosh(x, /)\n        Return the inverse hyperbolic cosine of x.\n    \n    asin(x, /)\n        Return the arc sine (measured in radians) of x.\n    \n    asinh(x, /)\n        Return the inverse hyperbolic sine of x.\n    \n    atan(x, /)\n        Return the arc tangent (measured in radians) of x.\n    \n    atan2(y, x, /)\n        Return the arc tangent (measured in radians) of y/x.\n        \n        Unlike atan(y/x), the signs of both x and y are considered.\n    \n    atanh(x, /)\n        Return the inverse hyperbolic tangent of x.\n    \n    ceil(x, /)\n        Return the ceiling of x as an Integral.\n        \n        This is the smallest integer >= x.\n    \n    copysign(x, y, /)\n        Return a float with the magnitude (absolute value) of x but the sign of y.\n        \n        On platforms that support signed zeros, copysign(1.0, -0.0)\n        returns -1.0.\n    \n    cos(x, /)\n        Return the cosine of x (measured in radians).\n    \n    cosh(x, /)\n        Return the hyperbolic cosine of x.\n    \n    degrees(x, /)\n        Convert angle x from radians to degrees.\n    \n    erf(x, /)\n        Error function at x.\n    \n    erfc(x, /)\n        Complementary error function at x.\n    \n    exp(x, /)\n        Return e raised to the power of x.\n    \n    expm1(x, /)\n        Return exp(x)-1.\n        \n        This function avoids the loss of precision involved in the direct evaluation of exp(x)-1 for small x.\n    \n    fabs(x, /)\n        Return the absolute value of the float x.\n    \n    factorial(x, /)\n        Find x!.\n        \n        Raise a ValueError if x is negative or non-integral.\n    \n    floor(x, /)\n        Return the floor of x as an Integral.\n        \n        This is the largest integer <= x.\n    \n    fmod(x, y, /)\n        Return fmod(x, y), according to platform C.\n        \n        x % y may differ.\n    \n    frexp(x, /)\n        Return the mantissa and exponent of x, as pair (m, e).\n        \n        m is a float and e is an int, such that x = m * 2.**e.\n        If x is 0, m and e are both 0.  Else 0.5 <= abs(m) < 1.0.\n    \n    fsum(seq, /)\n        Return an accurate floating point sum of values in the iterable seq.\n        \n        Assumes IEEE-754 floating point arithmetic.\n    \n    gamma(x, /)\n        Gamma function at x.\n    \n    gcd(x, y, /)\n        greatest common divisor of x and y\n    \n    hypot(x, y, /)\n        Return the Euclidean distance, sqrt(x*x + y*y).\n    \n    isclose(a, b, *, rel_tol=1e-09, abs_tol=0.0)\n        Determine whether two floating point numbers are close in value.\n        \n          rel_tol\n            maximum difference for being considered \"close\", relative to the\n            magnitude of the input values\n          abs_tol\n            maximum difference for being considered \"close\", regardless of the\n            magnitude of the input values\n        \n        Return True if a is close in value to b, and False otherwise.\n        \n        For the values to be considered close, the difference between them\n        must be smaller than at least one of the tolerances.\n        \n        -inf, inf and NaN behave similarly to the IEEE 754 Standard.  That\n        is, NaN is not close to anything, even itself.  inf and -inf are\n        only close to themselves.\n    \n    isfinite(x, /)\n        Return True if x is neither an infinity nor a NaN, and False otherwise.\n    \n    isinf(x, /)\n        Return True if x is a positive or negative infinity, and False otherwise.\n    \n    isnan(x, /)\n        Return True if x is a NaN (not a number), and False otherwise.\n    \n    ldexp(x, i, /)\n        Return x * (2**i).\n        \n        This is essentially the inverse of frexp().\n    \n    lgamma(x, /)\n        Natural logarithm of absolute value of Gamma function at x.\n    \n    log(...)\n        log(x, [base=math.e])\n        Return the logarithm of x to the given base.\n        \n        If the base not specified, returns the natural logarithm (base e) of x.\n    \n    log10(x, /)\n        Return the base 10 logarithm of x.\n    \n    log1p(x, /)\n        Return the natural logarithm of 1+x (base e).\n        \n        The result is computed in a way which is accurate for x near zero.\n    \n    log2(x, /)\n        Return the base 2 logarithm of x.\n    \n    modf(x, /)\n        Return the fractional and integer parts of x.\n        \n        Both results carry the sign of x and are floats.\n    \n    pow(x, y, /)\n        Return x**y (x to the power of y).\n    \n    radians(x, /)\n        Convert angle x from degrees to radians.\n    \n    remainder(x, y, /)\n        Difference between x and the closest integer multiple of y.\n        \n        Return x - n*y where n*y is the closest integer multiple of y.\n        In the case where x is exactly halfway between two multiples of\n        y, the nearest even value of n is used. The result is always exact.\n    \n    sin(x, /)\n        Return the sine of x (measured in radians).\n    \n    sinh(x, /)\n        Return the hyperbolic sine of x.\n    \n    sqrt(x, /)\n        Return the square root of x.\n    \n    tan(x, /)\n        Return the tangent of x (measured in radians).\n    \n    tanh(x, /)\n        Return the hyperbolic tangent of x.\n    \n    trunc(x, /)\n        Truncates the Real x to the nearest Integral toward 0.\n        \n        Uses the __trunc__ magic method.\n\nDATA\n    e = 2.718281828459045\n    inf = inf\n    nan = nan\n    pi = 3.141592653589793\n    tau = 6.283185307179586\n\nFILE\n    /home/dufei/anaconda3/lib/python3.7/lib-dynload/math.cpython-37m-x86_64-linux-gnu.so\n\n\n"
    }
   ],
   "source": [
    "import math\n",
    "help(math)"
   ]
  },
  {
   "source": [
    "**You want to select a random character from a string:**\n",
    "\n",
    "```python\n",
    "bases = 'ACTTGCTTGAC'\n",
    "```\n",
    "\n",
    "**1. Which [Standard Library](https://docs.python.org/3/library/) module might help? Click the link and look through the modules.**\n",
    "\n",
    "**2. Which function from the module might help?**\n",
    "\n",
    "**3. Write code that uses that function.**"
   ],
   "cell_type": "markdown",
   "metadata": {}
  },
  {
   "source": [
    "**1. Which [Standard Library](https://docs.python.org/3/library/) module might help?**\n",
    "\n",
    "- Since we want to randomly select a character, [`random`](https://docs.python.org/3/library/random.html) might help us."
   ],
   "cell_type": "markdown",
   "metadata": {}
  },
  {
   "source": [
    "**2. Which function from the module might help?**\n",
    "\n",
    "- We can look at the list of function in the [online documentation](https://docs.python.org/3/library/random.html) for `random` to find a function that might apply.\n",
    "- We can also use `help()` to get a list of functions.\n",
    "\n",
    "*Hint: Look for the list under the title `FUNCTIONS` in the documentation.*"
   ],
   "cell_type": "markdown",
   "metadata": {}
  },
  {
   "cell_type": "code",
   "execution_count": 52,
   "metadata": {
    "tags": []
   },
   "outputs": [
    {
     "output_type": "stream",
     "name": "stdout",
     "text": "Help on module random:\n\nNAME\n    random - Random variable generators.\n\nMODULE REFERENCE\n    https://docs.python.org/3.7/library/random\n    \n    The following documentation is automatically generated from the Python\n    source files.  It may be incomplete, incorrect or include features that\n    are considered implementation detail and may vary between Python\n    implementations.  When in doubt, consult the module reference at the\n    location listed above.\n\nDESCRIPTION\n        integers\n        --------\n               uniform within range\n    \n        sequences\n        ---------\n               pick random element\n               pick random sample\n               pick weighted random sample\n               generate random permutation\n    \n        distributions on the real line:\n        ------------------------------\n               uniform\n               triangular\n               normal (Gaussian)\n               lognormal\n               negative exponential\n               gamma\n               beta\n               pareto\n               Weibull\n    \n        distributions on the circle (angles 0 to 2pi)\n        ---------------------------------------------\n               circular uniform\n               von Mises\n    \n    General notes on the underlying Mersenne Twister core generator:\n    \n    * The period is 2**19937-1.\n    * It is one of the most extensively tested generators in existence.\n    * The random() method is implemented in C, executes in a single Python step,\n      and is, therefore, threadsafe.\n\nCLASSES\n    _random.Random(builtins.object)\n        Random\n            SystemRandom\n    \n    class Random(_random.Random)\n     |  Random(x=None)\n     |  \n     |  Random number generator base class used by bound module functions.\n     |  \n     |  Used to instantiate instances of Random to get generators that don't\n     |  share state.\n     |  \n     |  Class Random can also be subclassed if you want to use a different basic\n     |  generator of your own devising: in that case, override the following\n     |  methods:  random(), seed(), getstate(), and setstate().\n     |  Optionally, implement a getrandbits() method so that randrange()\n     |  can cover arbitrarily large ranges.\n     |  \n     |  Method resolution order:\n     |      Random\n     |      _random.Random\n     |      builtins.object\n     |  \n     |  Methods defined here:\n     |  \n     |  __getstate__(self)\n     |      # Issue 17489: Since __reduce__ was defined to fix #759889 this is no\n     |      # longer called; we leave it here because it has been here since random was\n     |      # rewritten back in 2001 and why risk breaking something.\n     |  \n     |  __init__(self, x=None)\n     |      Initialize an instance.\n     |      \n     |      Optional argument x controls seeding, as for Random.seed().\n     |  \n     |  __reduce__(self)\n     |      Helper for pickle.\n     |  \n     |  __setstate__(self, state)\n     |  \n     |  betavariate(self, alpha, beta)\n     |      Beta distribution.\n     |      \n     |      Conditions on the parameters are alpha > 0 and beta > 0.\n     |      Returned values range between 0 and 1.\n     |  \n     |  choice(self, seq)\n     |      Choose a random element from a non-empty sequence.\n     |  \n     |  choices(self, population, weights=None, *, cum_weights=None, k=1)\n     |      Return a k sized list of population elements chosen with replacement.\n     |      \n     |      If the relative weights or cumulative weights are not specified,\n     |      the selections are made with equal probability.\n     |  \n     |  expovariate(self, lambd)\n     |      Exponential distribution.\n     |      \n     |      lambd is 1.0 divided by the desired mean.  It should be\n     |      nonzero.  (The parameter would be called \"lambda\", but that is\n     |      a reserved word in Python.)  Returned values range from 0 to\n     |      positive infinity if lambd is positive, and from negative\n     |      infinity to 0 if lambd is negative.\n     |  \n     |  gammavariate(self, alpha, beta)\n     |      Gamma distribution.  Not the gamma function!\n     |      \n     |      Conditions on the parameters are alpha > 0 and beta > 0.\n     |      \n     |      The probability distribution function is:\n     |      \n     |                  x ** (alpha - 1) * math.exp(-x / beta)\n     |        pdf(x) =  --------------------------------------\n     |                    math.gamma(alpha) * beta ** alpha\n     |  \n     |  gauss(self, mu, sigma)\n     |      Gaussian distribution.\n     |      \n     |      mu is the mean, and sigma is the standard deviation.  This is\n     |      slightly faster than the normalvariate() function.\n     |      \n     |      Not thread-safe without a lock around calls.\n     |  \n     |  getstate(self)\n     |      Return internal state; can be passed to setstate() later.\n     |  \n     |  lognormvariate(self, mu, sigma)\n     |      Log normal distribution.\n     |      \n     |      If you take the natural logarithm of this distribution, you'll get a\n     |      normal distribution with mean mu and standard deviation sigma.\n     |      mu can have any value, and sigma must be greater than zero.\n     |  \n     |  normalvariate(self, mu, sigma)\n     |      Normal distribution.\n     |      \n     |      mu is the mean, and sigma is the standard deviation.\n     |  \n     |  paretovariate(self, alpha)\n     |      Pareto distribution.  alpha is the shape parameter.\n     |  \n     |  randint(self, a, b)\n     |      Return random integer in range [a, b], including both end points.\n     |  \n     |  randrange(self, start, stop=None, step=1, _int=<class 'int'>)\n     |      Choose a random item from range(start, stop[, step]).\n     |      \n     |      This fixes the problem with randint() which includes the\n     |      endpoint; in Python this is usually not what you want.\n     |  \n     |  sample(self, population, k)\n     |      Chooses k unique random elements from a population sequence or set.\n     |      \n     |      Returns a new list containing elements from the population while\n     |      leaving the original population unchanged.  The resulting list is\n     |      in selection order so that all sub-slices will also be valid random\n     |      samples.  This allows raffle winners (the sample) to be partitioned\n     |      into grand prize and second place winners (the subslices).\n     |      \n     |      Members of the population need not be hashable or unique.  If the\n     |      population contains repeats, then each occurrence is a possible\n     |      selection in the sample.\n     |      \n     |      To choose a sample in a range of integers, use range as an argument.\n     |      This is especially fast and space efficient for sampling from a\n     |      large population:   sample(range(10000000), 60)\n     |  \n     |  seed(self, a=None, version=2)\n     |      Initialize internal state from hashable object.\n     |      \n     |      None or no argument seeds from current time or from an operating\n     |      system specific randomness source if available.\n     |      \n     |      If *a* is an int, all bits are used.\n     |      \n     |      For version 2 (the default), all of the bits are used if *a* is a str,\n     |      bytes, or bytearray.  For version 1 (provided for reproducing random\n     |      sequences from older versions of Python), the algorithm for str and\n     |      bytes generates a narrower range of seeds.\n     |  \n     |  setstate(self, state)\n     |      Restore internal state from object returned by getstate().\n     |  \n     |  shuffle(self, x, random=None)\n     |      Shuffle list x in place, and return None.\n     |      \n     |      Optional argument random is a 0-argument function returning a\n     |      random float in [0.0, 1.0); if it is the default None, the\n     |      standard random.random will be used.\n     |  \n     |  triangular(self, low=0.0, high=1.0, mode=None)\n     |      Triangular distribution.\n     |      \n     |      Continuous distribution bounded by given lower and upper limits,\n     |      and having a given mode value in-between.\n     |      \n     |      http://en.wikipedia.org/wiki/Triangular_distribution\n     |  \n     |  uniform(self, a, b)\n     |      Get a random number in the range [a, b) or [a, b] depending on rounding.\n     |  \n     |  vonmisesvariate(self, mu, kappa)\n     |      Circular data distribution.\n     |      \n     |      mu is the mean angle, expressed in radians between 0 and 2*pi, and\n     |      kappa is the concentration parameter, which must be greater than or\n     |      equal to zero.  If kappa is equal to zero, this distribution reduces\n     |      to a uniform random angle over the range 0 to 2*pi.\n     |  \n     |  weibullvariate(self, alpha, beta)\n     |      Weibull distribution.\n     |      \n     |      alpha is the scale parameter and beta is the shape parameter.\n     |  \n     |  ----------------------------------------------------------------------\n     |  Data descriptors defined here:\n     |  \n     |  __dict__\n     |      dictionary for instance variables (if defined)\n     |  \n     |  __weakref__\n     |      list of weak references to the object (if defined)\n     |  \n     |  ----------------------------------------------------------------------\n     |  Data and other attributes defined here:\n     |  \n     |  VERSION = 3\n     |  \n     |  ----------------------------------------------------------------------\n     |  Methods inherited from _random.Random:\n     |  \n     |  __getattribute__(self, name, /)\n     |      Return getattr(self, name).\n     |  \n     |  getrandbits(...)\n     |      getrandbits(k) -> x.  Generates an int with k random bits.\n     |  \n     |  random(...)\n     |      random() -> x in the interval [0, 1).\n     |  \n     |  ----------------------------------------------------------------------\n     |  Static methods inherited from _random.Random:\n     |  \n     |  __new__(*args, **kwargs) from builtins.type\n     |      Create and return a new object.  See help(type) for accurate signature.\n    \n    class SystemRandom(Random)\n     |  SystemRandom(x=None)\n     |  \n     |  Alternate random number generator using sources provided\n     |  by the operating system (such as /dev/urandom on Unix or\n     |  CryptGenRandom on Windows).\n     |  \n     |   Not available on all systems (see os.urandom() for details).\n     |  \n     |  Method resolution order:\n     |      SystemRandom\n     |      Random\n     |      _random.Random\n     |      builtins.object\n     |  \n     |  Methods defined here:\n     |  \n     |  getrandbits(self, k)\n     |      getrandbits(k) -> x.  Generates an int with k random bits.\n     |  \n     |  getstate = _notimplemented(self, *args, **kwds)\n     |  \n     |  random(self)\n     |      Get the next random number in the range [0.0, 1.0).\n     |  \n     |  seed(self, *args, **kwds)\n     |      Stub method.  Not used for a system random number generator.\n     |  \n     |  setstate = _notimplemented(self, *args, **kwds)\n     |  \n     |  ----------------------------------------------------------------------\n     |  Methods inherited from Random:\n     |  \n     |  __getstate__(self)\n     |      # Issue 17489: Since __reduce__ was defined to fix #759889 this is no\n     |      # longer called; we leave it here because it has been here since random was\n     |      # rewritten back in 2001 and why risk breaking something.\n     |  \n     |  __init__(self, x=None)\n     |      Initialize an instance.\n     |      \n     |      Optional argument x controls seeding, as for Random.seed().\n     |  \n     |  __reduce__(self)\n     |      Helper for pickle.\n     |  \n     |  __setstate__(self, state)\n     |  \n     |  betavariate(self, alpha, beta)\n     |      Beta distribution.\n     |      \n     |      Conditions on the parameters are alpha > 0 and beta > 0.\n     |      Returned values range between 0 and 1.\n     |  \n     |  choice(self, seq)\n     |      Choose a random element from a non-empty sequence.\n     |  \n     |  choices(self, population, weights=None, *, cum_weights=None, k=1)\n     |      Return a k sized list of population elements chosen with replacement.\n     |      \n     |      If the relative weights or cumulative weights are not specified,\n     |      the selections are made with equal probability.\n     |  \n     |  expovariate(self, lambd)\n     |      Exponential distribution.\n     |      \n     |      lambd is 1.0 divided by the desired mean.  It should be\n     |      nonzero.  (The parameter would be called \"lambda\", but that is\n     |      a reserved word in Python.)  Returned values range from 0 to\n     |      positive infinity if lambd is positive, and from negative\n     |      infinity to 0 if lambd is negative.\n     |  \n     |  gammavariate(self, alpha, beta)\n     |      Gamma distribution.  Not the gamma function!\n     |      \n     |      Conditions on the parameters are alpha > 0 and beta > 0.\n     |      \n     |      The probability distribution function is:\n     |      \n     |                  x ** (alpha - 1) * math.exp(-x / beta)\n     |        pdf(x) =  --------------------------------------\n     |                    math.gamma(alpha) * beta ** alpha\n     |  \n     |  gauss(self, mu, sigma)\n     |      Gaussian distribution.\n     |      \n     |      mu is the mean, and sigma is the standard deviation.  This is\n     |      slightly faster than the normalvariate() function.\n     |      \n     |      Not thread-safe without a lock around calls.\n     |  \n     |  lognormvariate(self, mu, sigma)\n     |      Log normal distribution.\n     |      \n     |      If you take the natural logarithm of this distribution, you'll get a\n     |      normal distribution with mean mu and standard deviation sigma.\n     |      mu can have any value, and sigma must be greater than zero.\n     |  \n     |  normalvariate(self, mu, sigma)\n     |      Normal distribution.\n     |      \n     |      mu is the mean, and sigma is the standard deviation.\n     |  \n     |  paretovariate(self, alpha)\n     |      Pareto distribution.  alpha is the shape parameter.\n     |  \n     |  randint(self, a, b)\n     |      Return random integer in range [a, b], including both end points.\n     |  \n     |  randrange(self, start, stop=None, step=1, _int=<class 'int'>)\n     |      Choose a random item from range(start, stop[, step]).\n     |      \n     |      This fixes the problem with randint() which includes the\n     |      endpoint; in Python this is usually not what you want.\n     |  \n     |  sample(self, population, k)\n     |      Chooses k unique random elements from a population sequence or set.\n     |      \n     |      Returns a new list containing elements from the population while\n     |      leaving the original population unchanged.  The resulting list is\n     |      in selection order so that all sub-slices will also be valid random\n     |      samples.  This allows raffle winners (the sample) to be partitioned\n     |      into grand prize and second place winners (the subslices).\n     |      \n     |      Members of the population need not be hashable or unique.  If the\n     |      population contains repeats, then each occurrence is a possible\n     |      selection in the sample.\n     |      \n     |      To choose a sample in a range of integers, use range as an argument.\n     |      This is especially fast and space efficient for sampling from a\n     |      large population:   sample(range(10000000), 60)\n     |  \n     |  shuffle(self, x, random=None)\n     |      Shuffle list x in place, and return None.\n     |      \n     |      Optional argument random is a 0-argument function returning a\n     |      random float in [0.0, 1.0); if it is the default None, the\n     |      standard random.random will be used.\n     |  \n     |  triangular(self, low=0.0, high=1.0, mode=None)\n     |      Triangular distribution.\n     |      \n     |      Continuous distribution bounded by given lower and upper limits,\n     |      and having a given mode value in-between.\n     |      \n     |      http://en.wikipedia.org/wiki/Triangular_distribution\n     |  \n     |  uniform(self, a, b)\n     |      Get a random number in the range [a, b) or [a, b] depending on rounding.\n     |  \n     |  vonmisesvariate(self, mu, kappa)\n     |      Circular data distribution.\n     |      \n     |      mu is the mean angle, expressed in radians between 0 and 2*pi, and\n     |      kappa is the concentration parameter, which must be greater than or\n     |      equal to zero.  If kappa is equal to zero, this distribution reduces\n     |      to a uniform random angle over the range 0 to 2*pi.\n     |  \n     |  weibullvariate(self, alpha, beta)\n     |      Weibull distribution.\n     |      \n     |      alpha is the scale parameter and beta is the shape parameter.\n     |  \n     |  ----------------------------------------------------------------------\n     |  Data descriptors inherited from Random:\n     |  \n     |  __dict__\n     |      dictionary for instance variables (if defined)\n     |  \n     |  __weakref__\n     |      list of weak references to the object (if defined)\n     |  \n     |  ----------------------------------------------------------------------\n     |  Data and other attributes inherited from Random:\n     |  \n     |  VERSION = 3\n     |  \n     |  ----------------------------------------------------------------------\n     |  Methods inherited from _random.Random:\n     |  \n     |  __getattribute__(self, name, /)\n     |      Return getattr(self, name).\n     |  \n     |  ----------------------------------------------------------------------\n     |  Static methods inherited from _random.Random:\n     |  \n     |  __new__(*args, **kwargs) from builtins.type\n     |      Create and return a new object.  See help(type) for accurate signature.\n\nFUNCTIONS\n    betavariate(alpha, beta) method of Random instance\n        Beta distribution.\n        \n        Conditions on the parameters are alpha > 0 and beta > 0.\n        Returned values range between 0 and 1.\n    \n    choice(seq) method of Random instance\n        Choose a random element from a non-empty sequence.\n    \n    choices(population, weights=None, *, cum_weights=None, k=1) method of Random instance\n        Return a k sized list of population elements chosen with replacement.\n        \n        If the relative weights or cumulative weights are not specified,\n        the selections are made with equal probability.\n    \n    expovariate(lambd) method of Random instance\n        Exponential distribution.\n        \n        lambd is 1.0 divided by the desired mean.  It should be\n        nonzero.  (The parameter would be called \"lambda\", but that is\n        a reserved word in Python.)  Returned values range from 0 to\n        positive infinity if lambd is positive, and from negative\n        infinity to 0 if lambd is negative.\n    \n    gammavariate(alpha, beta) method of Random instance\n        Gamma distribution.  Not the gamma function!\n        \n        Conditions on the parameters are alpha > 0 and beta > 0.\n        \n        The probability distribution function is:\n        \n                    x ** (alpha - 1) * math.exp(-x / beta)\n          pdf(x) =  --------------------------------------\n                      math.gamma(alpha) * beta ** alpha\n    \n    gauss(mu, sigma) method of Random instance\n        Gaussian distribution.\n        \n        mu is the mean, and sigma is the standard deviation.  This is\n        slightly faster than the normalvariate() function.\n        \n        Not thread-safe without a lock around calls.\n    \n    getrandbits(...) method of Random instance\n        getrandbits(k) -> x.  Generates an int with k random bits.\n    \n    getstate() method of Random instance\n        Return internal state; can be passed to setstate() later.\n    \n    lognormvariate(mu, sigma) method of Random instance\n        Log normal distribution.\n        \n        If you take the natural logarithm of this distribution, you'll get a\n        normal distribution with mean mu and standard deviation sigma.\n        mu can have any value, and sigma must be greater than zero.\n    \n    normalvariate(mu, sigma) method of Random instance\n        Normal distribution.\n        \n        mu is the mean, and sigma is the standard deviation.\n    \n    paretovariate(alpha) method of Random instance\n        Pareto distribution.  alpha is the shape parameter.\n    \n    randint(a, b) method of Random instance\n        Return random integer in range [a, b], including both end points.\n    \n    random(...) method of Random instance\n        random() -> x in the interval [0, 1).\n    \n    randrange(start, stop=None, step=1, _int=<class 'int'>) method of Random instance\n        Choose a random item from range(start, stop[, step]).\n        \n        This fixes the problem with randint() which includes the\n        endpoint; in Python this is usually not what you want.\n    \n    sample(population, k) method of Random instance\n        Chooses k unique random elements from a population sequence or set.\n        \n        Returns a new list containing elements from the population while\n        leaving the original population unchanged.  The resulting list is\n        in selection order so that all sub-slices will also be valid random\n        samples.  This allows raffle winners (the sample) to be partitioned\n        into grand prize and second place winners (the subslices).\n        \n        Members of the population need not be hashable or unique.  If the\n        population contains repeats, then each occurrence is a possible\n        selection in the sample.\n        \n        To choose a sample in a range of integers, use range as an argument.\n        This is especially fast and space efficient for sampling from a\n        large population:   sample(range(10000000), 60)\n    \n    seed(a=None, version=2) method of Random instance\n        Initialize internal state from hashable object.\n        \n        None or no argument seeds from current time or from an operating\n        system specific randomness source if available.\n        \n        If *a* is an int, all bits are used.\n        \n        For version 2 (the default), all of the bits are used if *a* is a str,\n        bytes, or bytearray.  For version 1 (provided for reproducing random\n        sequences from older versions of Python), the algorithm for str and\n        bytes generates a narrower range of seeds.\n    \n    setstate(state) method of Random instance\n        Restore internal state from object returned by getstate().\n    \n    shuffle(x, random=None) method of Random instance\n        Shuffle list x in place, and return None.\n        \n        Optional argument random is a 0-argument function returning a\n        random float in [0.0, 1.0); if it is the default None, the\n        standard random.random will be used.\n    \n    triangular(low=0.0, high=1.0, mode=None) method of Random instance\n        Triangular distribution.\n        \n        Continuous distribution bounded by given lower and upper limits,\n        and having a given mode value in-between.\n        \n        http://en.wikipedia.org/wiki/Triangular_distribution\n    \n    uniform(a, b) method of Random instance\n        Get a random number in the range [a, b) or [a, b] depending on rounding.\n    \n    vonmisesvariate(mu, kappa) method of Random instance\n        Circular data distribution.\n        \n        mu is the mean angle, expressed in radians between 0 and 2*pi, and\n        kappa is the concentration parameter, which must be greater than or\n        equal to zero.  If kappa is equal to zero, this distribution reduces\n        to a uniform random angle over the range 0 to 2*pi.\n    \n    weibullvariate(alpha, beta) method of Random instance\n        Weibull distribution.\n        \n        alpha is the scale parameter and beta is the shape parameter.\n\nDATA\n    __all__ = ['Random', 'seed', 'random', 'uniform', 'randint', 'choice',...\n\nFILE\n    /home/dufei/anaconda3/lib/python3.7/random.py\n\n\n"
    }
   ],
   "source": [
    "import random\n",
    "help(random)"
   ]
  },
  {
   "source": [
    "- The function `choice()` looks promising."
   ],
   "cell_type": "markdown",
   "metadata": {}
  },
  {
   "cell_type": "code",
   "execution_count": 53,
   "metadata": {
    "tags": []
   },
   "outputs": [
    {
     "output_type": "stream",
     "name": "stdout",
     "text": "Help on method choice in module random:\n\nchoice(seq) method of random.Random instance\n    Choose a random element from a non-empty sequence.\n\n"
    }
   ],
   "source": [
    "import random\n",
    "\n",
    "help(random.choice)"
   ]
  },
  {
   "source": [
    "**3. Write code that uses that function. Run it several times to see if it is truly random.**"
   ],
   "cell_type": "markdown",
   "metadata": {}
  },
  {
   "cell_type": "code",
   "execution_count": 61,
   "metadata": {},
   "outputs": [
    {
     "output_type": "execute_result",
     "data": {
      "text/plain": "'G'"
     },
     "metadata": {},
     "execution_count": 61
    }
   ],
   "source": [
    "import random\n",
    "\n",
    "bases = 'ACTTGCTTGAC'\n",
    "random.choice(bases)"
   ]
  },
  {
   "cell_type": "code",
   "execution_count": null,
   "metadata": {},
   "outputs": [],
   "source": []
  }
 ]
}