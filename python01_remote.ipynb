{
 "metadata": {
  "language_info": {
   "codemirror_mode": {
    "name": "ipython",
    "version": 3
   },
   "file_extension": ".py",
   "mimetype": "text/x-python",
   "name": "python",
   "nbconvert_exporter": "python",
   "pygments_lexer": "ipython3",
   "version": "3.7.4-final"
  },
  "orig_nbformat": 2,
  "kernelspec": {
   "name": "python_defaultSpec_1600800159935",
   "display_name": "Python 3.7.6 64-bit ('base': conda)"
  }
 },
 "nbformat": 4,
 "nbformat_minor": 2,
 "cells": [
  {
   "source": [
    "# Day 01\n",
    "Notes based on [The Carpentries](https://carpentries.org/) material.\n",
    "\n",
    "# Lesson 01 - Running Python and Using Jupyter Notebooks\n",
    "- Running and Quitting\n",
    "- Variables and Assignment\n",
    "- Data Types and Type Conversion\n",
    "- Built-in Functions and Help\n",
    "- Libraries\n",
    "- Conditionals\n",
    "- Lists\n"
   ],
   "cell_type": "markdown",
   "metadata": {}
  },
  {
   "source": [
    "# TIGER INSTRUCTIONS HERE\n",
    "Future site of instructions for participants to log into Tiger and start up their notebook."
   ],
   "cell_type": "markdown",
   "metadata": {}
  },
  {
   "source": [
    "## Questions:\n",
    "- How can I run Python programs? \n",
    "\n",
    "## Objectives:  \n",
    "- Log into OSU's Tiger Research Compute Cloud\n",
    "- Launch a Jupyter notebook.\n",
    "- Explain the difference between a Python script and a Jupyter notebook.\n",
    "- Create Markdown cells in a notebook.\n",
    "- Create and run Python cells in a notebook.\n",
    "\n",
    "## Running a Pythong Program\n",
    "- Python scripts are plain-text files.\n",
    "- Files usually end with `.py` extenstion.\n",
    "- Scripts require a Python interpreter to run.\n",
    "- You have lots of options when creating a Python script: integrated developer environments (IDE's), various text editors, and Jupyter notebooks.\n",
    "\n",
    "## Jupyter Notebooks\n",
    "- We will use a Jupyter Notebook for running and editing Python commands.\n",
    "- Notebooks are intended to imitate the feel of a lab notebook and are designed for presenting output.\n",
    "- Content is broken into three types of blocks: Markdown, code blocks, and output/results.\n",
    "- Notebooks can be saved as `.ipynb` files that you can share with collaborators.\n",
    "- Notebooks are separate from the Python interpreter.\n",
    "- Jupyter notebooks can be run in the cloud or locally on your computer.\n",
    "- If you decide to run notebooks locally on your computer, we recommend using the [Anaconda Python](https://www.anaconda.com/products/individual) distribution.\n",
    "\n",
    "## Using Jupyter Notebooks\n",
    "- There are two modes:\n",
    "  - Edit mode\n",
    "  - Command mode\n",
    "- After clicking on a cell, type <kbd>Esc</kbd> to enter command mode and <kbd>Return</kbd> to enter edit mode.\n",
    "- Command mode allows you to take change the cell type to either Markdown (<kbd>m</kbd>) or Python code (<kbd>y</kbd>).\n",
    "- To execute the content of a cell type <kbd>Shift</kbd>+<kbd>Return</kbd>."
   ],
   "cell_type": "markdown",
   "metadata": {}
  },
  {
   "source": [
    "## Markdown\n",
    "- Markdown is a markup language used to format text.\n",
    "- Designed for bloggers to format text without needing to learn HTML.\n",
    "- Jupyter notebooks employ Markdown to allow us to explain code blocks and content within our notebook.\n",
    "- These notes employ markdown. Double click this text to see how I entered it in edit mode.\n",
    "- Here is a [Markdown cheat sheet](https://www.markdownguide.org/cheat-sheet) for further reference."
   ],
   "cell_type": "markdown",
   "metadata": {}
  },
  {
   "source": [
    "## Key Markdown Conventions"
   ],
   "cell_type": "markdown",
   "metadata": {}
  },
  {
   "source": [
    "## Headings\n",
    "\n",
    "# Level 1\n",
    "## Level 2\n",
    "### Level 3"
   ],
   "cell_type": "markdown",
   "metadata": {}
  },
  {
   "source": [
    "## Lists\n",
    "\n",
    "* Asterisks\n",
    "- and dashes\n",
    "- create unordered lists "
   ],
   "cell_type": "markdown",
   "metadata": {}
  },
  {
   "source": [
    "1. Numbers\n",
    "3. off any\n",
    "1. order create\n",
    "2. ordered lists"
   ],
   "cell_type": "markdown",
   "metadata": {}
  },
  {
   "source": [
    "- This convention is helpful for updating documentation later."
   ],
   "cell_type": "markdown",
   "metadata": {}
  },
  {
   "source": [
    "1. First step\n",
    "1. then add\n",
    "1. a step"
   ],
   "cell_type": "markdown",
   "metadata": {}
  },
  {
   "source": [
    "1. First step\n",
    "1. then add\n",
    "1. then add\n",
    "1. a step"
   ],
   "cell_type": "markdown",
   "metadata": {}
  },
  {
   "source": [
    "- Adding spaces in front \n",
    "  - of a line\n",
    "    - creates\n",
    "    1. sublists"
   ],
   "cell_type": "markdown",
   "metadata": {}
  },
  {
   "source": [
    "## Math"
   ],
   "cell_type": "markdown",
   "metadata": {}
  },
  {
   "source": [
    "- Markdown supports $LaTeX$ notation between `$`'s, so you write equations in your notebook:"
   ],
   "cell_type": "markdown",
   "metadata": {}
  },
  {
   "source": [
    "$$\\zeta (s)=\\sum _{n=1}^{\\infty }{\\frac {1}{n^{s}}}$$"
   ],
   "cell_type": "markdown",
   "metadata": {}
  },
  {
   "source": [
    "# Lesson 02 - Variables and Assignment"
   ],
   "cell_type": "markdown",
   "metadata": {}
  },
  {
   "source": [
    "## Questions:\n",
    "- How can I store data in programs?\n",
    "\n",
    "## Objectives\n",
    "- Write programs that assign values to variables and perform calculations with those values.\n",
    "- Correctly trace value changes in programs that use variable assignment."
   ],
   "cell_type": "markdown",
   "metadata": {}
  },
  {
   "source": [
    "## Variables Store Values\n",
    "- *Variables* are names used to store values.\n",
    "- The `=` symbol assigns the object on the right to the name on the left."
   ],
   "cell_type": "markdown",
   "metadata": {}
  },
  {
   "cell_type": "code",
   "execution_count": 1,
   "metadata": {},
   "outputs": [],
   "source": [
    "age = 42\n",
    "first_name = 'Ahmed'"
   ]
  },
  {
   "source": [
    "## Variable Naming Conventions\n",
    "- Names can only contain letters, digits, and underscores (`_`).\n",
    "- Names cannot start with a digit.\n",
    "- Names are case sensitive (`Age` and `age` are different variables in Python).\n",
    "- Names that start with underscores have special meaning in Python."
   ],
   "cell_type": "markdown",
   "metadata": {}
  },
  {
   "source": [
    "## Use Print to Display Values\n",
    "- Python uses the built-in function `print()` to display objects within variables.\n",
    "- Put the items that you want to print in a comma-separated list within the function's parenthesis to display their content.\n",
    "  - Values passed to a function are called *arguments*.\n",
    "- You can include *strings* (text characters) in the list by wrapping the string in quotes.\n"
   ],
   "cell_type": "markdown",
   "metadata": {}
  },
  {
   "cell_type": "code",
   "execution_count": 3,
   "metadata": {
    "tags": []
   },
   "outputs": [
    {
     "output_type": "stream",
     "name": "stdout",
     "text": "Ahmed is 42 years old.\n"
    }
   ],
   "source": [
    "print(first_name, 'is', age, 'years old.')"
   ]
  },
  {
   "source": [
    "- Print automatically manages formatting issues like spaces between words and line wrapping."
   ],
   "cell_type": "markdown",
   "metadata": {}
  },
  {
   "source": [
    "## Variables Must be Created Before they are Used"
   ],
   "cell_type": "markdown",
   "metadata": {}
  },
  {
   "cell_type": "code",
   "execution_count": 4,
   "metadata": {},
   "outputs": [
    {
     "output_type": "error",
     "ename": "NameError",
     "evalue": "name 'last_name' is not defined",
     "traceback": [
      "\u001b[0;31m---------------------------------------------------------------------------\u001b[0m",
      "\u001b[0;31mNameError\u001b[0m                                 Traceback (most recent call last)",
      "\u001b[0;32m<ipython-input-4-a637c5453549>\u001b[0m in \u001b[0;36m<module>\u001b[0;34m\u001b[0m\n\u001b[0;32m----> 1\u001b[0;31m \u001b[0mprint\u001b[0m\u001b[0;34m(\u001b[0m\u001b[0mlast_name\u001b[0m\u001b[0;34m)\u001b[0m\u001b[0;34m\u001b[0m\u001b[0;34m\u001b[0m\u001b[0m\n\u001b[0m",
      "\u001b[0;31mNameError\u001b[0m: name 'last_name' is not defined"
     ]
    }
   ],
   "source": [
    "print(last_name)"
   ]
  },
  {
   "source": [
    "## Be Aware of Hidden-State Errors"
   ],
   "cell_type": "markdown",
   "metadata": {}
  },
  {
   "cell_type": "code",
   "execution_count": 5,
   "metadata": {},
   "outputs": [
    {
     "output_type": "error",
     "ename": "NameError",
     "evalue": "name 'myval' is not defined",
     "traceback": [
      "\u001b[0;31m---------------------------------------------------------------------------\u001b[0m",
      "\u001b[0;31mNameError\u001b[0m                                 Traceback (most recent call last)",
      "\u001b[0;32m<ipython-input-5-7b59df88f2b1>\u001b[0m in \u001b[0;36m<module>\u001b[0;34m\u001b[0m\n\u001b[0;32m----> 1\u001b[0;31m \u001b[0mprint\u001b[0m\u001b[0;34m(\u001b[0m\u001b[0mmyval\u001b[0m\u001b[0;34m)\u001b[0m\u001b[0;34m\u001b[0m\u001b[0;34m\u001b[0m\u001b[0m\n\u001b[0m",
      "\u001b[0;31mNameError\u001b[0m: name 'myval' is not defined"
     ]
    }
   ],
   "source": [
    "print(myval)"
   ]
  },
  {
   "cell_type": "code",
   "execution_count": 6,
   "metadata": {},
   "outputs": [],
   "source": [
    "myval = 1"
   ]
  },
  {
   "source": [
    "- If we execute `print(myval)` again, it will work because `myval` has now been assigned `1`.\n",
    "- Jupyter is running separatly from the Python kernal.\n",
    "- These *hidden state* errors often occur when re-running old cells after reusing data or variables in recent work.\n",
    "- Sometimes it is helpful to use \"Kernal\", \"Restart and Run All\" to reset your environment."
   ],
   "cell_type": "markdown",
   "metadata": {}
  },
  {
   "source": [
    "## Using Variables in Calculations\n",
    "- You can use variables to stand in for the objects they store in calculations.\n",
    "- We assigned `42` to `age` above. Let's use it."
   ],
   "cell_type": "markdown",
   "metadata": {}
  },
  {
   "cell_type": "code",
   "execution_count": 7,
   "metadata": {
    "tags": []
   },
   "outputs": [
    {
     "output_type": "stream",
     "name": "stdout",
     "text": "Age in three years: 45\n"
    }
   ],
   "source": [
    "age = age + 3\n",
    "print('Age in three years:', age)"
   ]
  },
  {
   "source": [
    "## Using an Index to get Characters from String\n",
    "- Each letter in a string occupies a position that can be referenced, or indexed.\n",
    "- Counting starts with `0` in Python.\n",
    "- To access a specific letter, use it's *index*.\n",
    "- Brackets (`[position]`) after a variable's name index the item at that position.\n",
    "\n",
    "![](http://swcarpentry.github.io/python-novice-gapminder/fig/2_indexing.svg)"
   ],
   "cell_type": "markdown",
   "metadata": {}
  },
  {
   "cell_type": "code",
   "execution_count": 10,
   "metadata": {
    "tags": []
   },
   "outputs": [
    {
     "output_type": "stream",
     "name": "stdout",
     "text": "h\n"
    }
   ],
   "source": [
    "atom_name = 'helium'\n",
    "print(atom_name[0])"
   ]
  },
  {
   "source": [
    "## Using a Slice to get a Substring\n",
    "- An item within a list of items is called an *element*.\n",
    "- A string's elements are individual characters.\n",
    "- We can index multiple elements by using the following index notation: `[start:stop]`.\n",
    "- This notation returns all the elements starting with the `start` item and up to (but not including) the `stop` item.\n",
    "- Grabbing multiple elements from a list of items is called taking a *slice*.\n",
    "- Taking a slice does not change the original string."
   ],
   "cell_type": "markdown",
   "metadata": {}
  },
  {
   "cell_type": "code",
   "execution_count": 11,
   "metadata": {
    "tags": []
   },
   "outputs": [
    {
     "output_type": "stream",
     "name": "stdout",
     "text": "sod\n"
    }
   ],
   "source": [
    "atom_name = 'sodium'\n",
    "print(atom_name[0:3])"
   ]
  },
  {
   "source": [
    "## Use `len()` to Find the Length of a String\n",
    "- The built-in function `len()` returns the length of a string."
   ],
   "cell_type": "markdown",
   "metadata": {}
  },
  {
   "cell_type": "code",
   "execution_count": 13,
   "metadata": {
    "tags": []
   },
   "outputs": [
    {
     "output_type": "stream",
     "name": "stdout",
     "text": "6\n"
    }
   ],
   "source": [
    "print(len('helium'))"
   ]
  },
  {
   "source": [
    "- We can nest functions.\n",
    "- Functions are executed from the inside out, like mathematics."
   ],
   "cell_type": "markdown",
   "metadata": {}
  },
  {
   "source": [
    "## Use Meaningful Variable Names\n",
    "- Be kind to potential collaborators (and your future self) by using descriptive variable names.\n",
    "- Python will still execute your code without problems as long as names are consistent, but you might not know what is going on."
   ],
   "cell_type": "markdown",
   "metadata": {}
  },
  {
   "cell_type": "code",
   "execution_count": 14,
   "metadata": {
    "tags": []
   },
   "outputs": [
    {
     "output_type": "stream",
     "name": "stdout",
     "text": "Ahmed is 42 years old.\n"
    }
   ],
   "source": [
    "flabadab = 42\n",
    "ewr_422_yY = 'Ahmed'\n",
    "print(ewr_422_yY, 'is', flabadab, 'years old.')"
   ]
  },
  {
   "source": [
    "## Exercises"
   ],
   "cell_type": "markdown",
   "metadata": {}
  }
 ]
}