{
 "metadata": {
  "language_info": {
   "codemirror_mode": {
    "name": "ipython",
    "version": 3
   },
   "file_extension": ".py",
   "mimetype": "text/x-python",
   "name": "python",
   "nbconvert_exporter": "python",
   "pygments_lexer": "ipython3",
   "version": "3.7.6-final"
  },
  "orig_nbformat": 2,
  "kernelspec": {
   "name": "python_defaultSpec_1600727392206",
   "display_name": "Python 3.7.6 64-bit ('base': conda)"
  }
 },
 "nbformat": 4,
 "nbformat_minor": 2,
 "cells": [
  {
   "source": [
    "# Day 01 - Running Python and Using Jupyter Notebooks\n",
    "\n",
    "- Running and Quitting\n",
    "- Variables and Assignment\n",
    "- Data Types and Type Conversion\n",
    "- Built-in Functions and Help\n",
    "- Libraries\n",
    "- Conditionals\n",
    "- Lists\n"
   ],
   "cell_type": "markdown",
   "metadata": {}
  },
  {
   "source": [
    "# TIGER INSTRUCTIONS HERE\n",
    "Future site of instructions for participants to log into Tiger and start up their notebook."
   ],
   "cell_type": "markdown",
   "metadata": {}
  },
  {
   "source": [
    "## Questions:\n",
    "- How can I run Python programs? \n",
    "\n",
    "## Objectives:  \n",
    "- Log into OSU's Tiger Research Compute Cloud\n",
    "- Launch a Jupyter notebook.\n",
    "- Explain the difference between a Python script and a Jupyter notebook.\n",
    "- Create Markdown cells in a notebook.\n",
    "- Create and run Python cells in a notebook.\n",
    "\n",
    "## Running a Pythong Program\n",
    "- Python scripts are plain-text files.\n",
    "- Files usually end with `.py` extenstion.\n",
    "- Scripts require a Python interpreter to run.\n",
    "- You have lots of options when creating a Python script: integrated developer environments (IDE's), various text editors, and Jupyter notebooks.\n",
    "\n",
    "## Jupyter Notebooks\n",
    "- We will use a Jupyter Notebook for running and editing Python commands.\n",
    "- Notebooks are intended to imitate the feel of a lab notebook and are designed for presenting output.\n",
    "- Content is broken into three types of blocks: Markdown, code blocks, and output/results.\n",
    "- Notebooks can be saved as `.ipynb` files that you can share with collaborators.\n",
    "- Notebooks are separate from the Python interpreter.\n",
    "- Jupyter notebooks can be run in the cloud or locally on your computer.\n",
    "- If you decide to run notebooks locally on your computer, we recommend using the [Anaconda Python](https://www.anaconda.com/products/individual) distribution.\n",
    "\n",
    "## Using Jupyter Notebooks\n",
    "- There are two modes:\n",
    "  - Edit mode\n",
    "  - Command mode\n",
    "- After clicking on a cell, type <kbd>Esc</kbd> to enter command mode and <kbd>Return</kbd> to enter edit mode.\n",
    "- Command mode allows you to take change the cell type to either Markdown (<kbd>m</kbd>) or Python code (<kbd>y</kbd>).\n",
    "- To execute the content of a cell type <kbd>Shift</kbd>+<kbd>Return</kbd>."
   ],
   "cell_type": "markdown",
   "metadata": {}
  },
  {
   "source": [
    "## Markdown\n",
    "- Markdown is a markup language used to format text.\n",
    "- Designed for bloggers to format text without needing to learn HTML.\n",
    "- Jupyter notebooks employ Markdown to allow us to explain code blocks and content within our notebook.\n",
    "- These notes employ markdown. Double click this text to see how I entered it in edit mode.\n",
    "- Here is a [Markdown cheat sheet](https://www.markdownguide.org/cheat-sheet) for further reference."
   ],
   "cell_type": "markdown",
   "metadata": {}
  },
  {
   "source": [
    "## Key Markdown Conventions"
   ],
   "cell_type": "markdown",
   "metadata": {}
  },
  {
   "source": [
    "## Headings\n",
    "\n",
    "# Level 1\n",
    "## Level 2\n",
    "### Level 3"
   ],
   "cell_type": "markdown",
   "metadata": {}
  },
  {
   "source": [
    "## Lists\n",
    "\n",
    "* Asterisks\n",
    "- and dashes\n",
    "- create unordered lists "
   ],
   "cell_type": "markdown",
   "metadata": {}
  },
  {
   "source": [
    "1. Numbers\n",
    "3. off any\n",
    "1. order create\n",
    "2. ordered lists"
   ],
   "cell_type": "markdown",
   "metadata": {}
  },
  {
   "source": [
    "- This convention is helpful for updating documentation later."
   ],
   "cell_type": "markdown",
   "metadata": {}
  },
  {
   "source": [
    "1. First step\n",
    "1. then add\n",
    "1. a step"
   ],
   "cell_type": "markdown",
   "metadata": {}
  },
  {
   "source": [
    "1. First step\n",
    "1. then add\n",
    "1. then add\n",
    "1. a step"
   ],
   "cell_type": "markdown",
   "metadata": {}
  },
  {
   "source": [
    "- Adding spaces in front \n",
    "  - of a line\n",
    "    - creates\n",
    "    1. sublists"
   ],
   "cell_type": "markdown",
   "metadata": {}
  },
  {
   "source": [
    "## Math"
   ],
   "cell_type": "markdown",
   "metadata": {}
  },
  {
   "source": [
    "- Markdown supports $LaTeX$ notation between `$`'s, so you write equations in your notebook:"
   ],
   "cell_type": "markdown",
   "metadata": {}
  },
  {
   "source": [
    "$$\\zeta (s)=\\sum _{n=1}^{\\infty }{\\frac {1}{n^{s}}}$$"
   ],
   "cell_type": "markdown",
   "metadata": {}
  },
  {
   "cell_type": "code",
   "execution_count": null,
   "metadata": {},
   "outputs": [],
   "source": []
  }
 ]
}