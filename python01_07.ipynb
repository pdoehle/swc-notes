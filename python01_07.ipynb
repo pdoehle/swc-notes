{
 "cells": [
  {
   "cell_type": "markdown",
   "metadata": {},
   "source": [
    "# Lesson 07 - Lists"
   ]
  },
  {
   "cell_type": "markdown",
   "metadata": {},
   "source": [
    "## Questions:\n",
    "- How can I store multiple values?\n",
    "\n",
    "## Objectives:\n",
    "- Explain why programs need collections of values.\n",
    "- Write code that creates lists and does the following operations on them:\n",
    "  - Indexing\n",
    "  - Slicing\n",
    "  - Modifying through assignment\n",
    "  - Modifying through a method call"
   ]
  },
  {
   "cell_type": "markdown",
   "metadata": {},
   "source": [
    "## Storing Many Values\n",
    "- Working with thousands of values can be cumbersome.\n",
    "- List store multiple values as one entity and make it easier for us to work with them in bulk.\n",
    "- To store objects in a list, type a comma-delimited list between brackets: `[item01, item02, item03]`.\n",
    "- The `len()` function tells you how many items are in the list."
   ]
  },
  {
   "cell_type": "code",
   "execution_count": null,
   "metadata": {
    "tags": []
   },
   "outputs": [],
   "source": [
    "pressures = [0.273, 0.275, 0.277, 0.275, 0.276]\n",
    "print('Pressures:', pressures)\n",
    "print('Length:', len(pressures))"
   ]
  },
  {
   "cell_type": "markdown",
   "metadata": {},
   "source": [
    "## Indexing Items\n",
    "- You can index items from a list just like strings.\n",
    "- Things to remember:\n",
    "  - Index (access) objects by using bracket notation: `list_name[position]`.\n",
    "  - Counting starts at 0.\n",
    "  - Slices start with the first index and go up to, but not including, the last index."
   ]
  },
  {
   "cell_type": "code",
   "execution_count": null,
   "metadata": {
    "tags": []
   },
   "outputs": [],
   "source": [
    "print('Zeroth item of pressures:', pressures[0])\n",
    "print('Fourth item of pressures:', pressures[4])"
   ]
  },
  {
   "cell_type": "markdown",
   "metadata": {},
   "source": [
    "## Changing List Values\n",
    "- You can use bracket notation on the left side of an assignement expression to replace a specific item in a list."
   ]
  },
  {
   "cell_type": "code",
   "execution_count": null,
   "metadata": {
    "tags": []
   },
   "outputs": [],
   "source": [
    "print('Pressures is', pressures[0])\n",
    "pressures[0] = 0.265\n",
    "print('Pressures is now', pressures[0])"
   ]
  },
  {
   "cell_type": "markdown",
   "metadata": {},
   "source": [
    "## Different Datatypes\n",
    "- One list can contain multiple data types."
   ]
  },
  {
   "cell_type": "code",
   "execution_count": null,
   "metadata": {},
   "outputs": [],
   "source": [
    "goals = [1, 'Create lists.', 2, 'Extract items from lists.', 3, 'Modify lists.']"
   ]
  },
  {
   "cell_type": "markdown",
   "metadata": {},
   "source": [
    "## Appending Items to a List\n",
    "- `list_name.append()` adds items to the end of a list.\n",
    "- `append()` is a method (a function that belongs to an object).\n",
    "- You can use methods to change objects or take action with them.\n",
    "- Methods use the dot (`.`) notation just like modules and libraries."
   ]
  },
  {
   "cell_type": "code",
   "execution_count": null,
   "metadata": {
    "tags": []
   },
   "outputs": [],
   "source": [
    "primes = [2, 3, 5]\n",
    "print('`primes` is initially', primes)\n",
    "primes.append(7)\n",
    "print('`primes` has become', primes)"
   ]
  },
  {
   "cell_type": "markdown",
   "metadata": {},
   "source": [
    "- Lists also have the `extend()` method. Can you tell the difference between `append()` and `extend()`?"
   ]
  },
  {
   "cell_type": "code",
   "execution_count": null,
   "metadata": {
    "tags": []
   },
   "outputs": [],
   "source": [
    "teen_primes = [11, 13, 17, 19]\n",
    "middle_aged_primes = [37, 41, 43, 47]\n",
    "print('`primes` is currently', primes)\n",
    "primes.extend(teen_primes)\n",
    "print('`primes` has now become', primes)\n",
    "primes.append(middle_aged_primes)\n",
    "print('`primes` has finally become', primes)"
   ]
  },
  {
   "cell_type": "markdown",
   "metadata": {},
   "source": [
    "- Lists can contain multiple datatypes, even other lists!\n",
    "- `extend()` maintains the flat list structure while `append()` takes whatever you give it and places it in the next spot.\n",
    "- After running the above code, the last item in the list is an entire list: `[37, 41, 43, 47]]`."
   ]
  },
  {
   "cell_type": "markdown",
   "metadata": {},
   "source": [
    "## Removing Items\n",
    "- `del` deletes items from a list."
   ]
  },
  {
   "cell_type": "code",
   "execution_count": null,
   "metadata": {
    "tags": []
   },
   "outputs": [],
   "source": [
    "primes = [2, 3, 5, 7, 9]\n",
    "print('`primes` before removing last item:', primes)\n",
    "del primes[4]\n",
    "print('`primes` after removing last item:', primes)"
   ]
  },
  {
   "cell_type": "markdown",
   "metadata": {},
   "source": [
    "## Empty Lists\n",
    "- Use `[]` to designate a list with no values.\n",
    "- This is helpful when building new lists from scratch."
   ]
  },
  {
   "cell_type": "markdown",
   "metadata": {},
   "source": [
    "## Indexing Strings\n",
    "- Recall that we can index characters from a string just like lists."
   ]
  },
  {
   "cell_type": "code",
   "execution_count": null,
   "metadata": {
    "tags": []
   },
   "outputs": [],
   "source": [
    "element = 'carbon'\n",
    "print('Zeroth character:', element[0])\n",
    "print('Third character:', element[3])"
   ]
  },
  {
   "cell_type": "markdown",
   "metadata": {},
   "source": [
    "## Strings are Immutable\n",
    "- Python recognized two types of collections: mutable and immutable.\n",
    "- *Mutable* collections can be changed in place.\n",
    "- *Immutable* collections cannot be changed. The only way to change them is to re-assign their variable.\n",
    "- Lists are mutable while strings are immutable."
   ]
  },
  {
   "cell_type": "code",
   "execution_count": null,
   "metadata": {},
   "outputs": [],
   "source": [
    "element[0] = 'C'"
   ]
  },
  {
   "cell_type": "markdown",
   "metadata": {},
   "source": [
    "## Indexing Errors\n",
    "- Python reports an `IndexError` when we try to reference a value that does not exist."
   ]
  },
  {
   "cell_type": "code",
   "execution_count": null,
   "metadata": {},
   "outputs": [],
   "source": [
    "print('99th element of element is:', element[99])"
   ]
  },
  {
   "cell_type": "markdown",
   "metadata": {},
   "source": [
    "## Exercises\n",
    "\n",
    "**If both `low` and `high` are non-negative integers, how long is the list `values[low:high]`?**"
   ]
  },
  {
   "cell_type": "markdown",
   "metadata": {},
   "source": [
    "The list `values[low:high]` has `high - low` elements."
   ]
  },
  {
   "cell_type": "markdown",
   "metadata": {},
   "source": [
    "**Try out the following code.**\n",
    "\n",
    "```python\n",
    "print('String to list:', list('tin'))\n",
    "print('List to string:', ''.join(['g', 'o', 'l', 'd']))\n",
    "```"
   ]
  },
  {
   "cell_type": "code",
   "execution_count": null,
   "metadata": {
    "tags": []
   },
   "outputs": [],
   "source": []
  },
  {
   "cell_type": "markdown",
   "metadata": {},
   "source": [
    "**Given this, what does `list('some string')` and `'-'.join(['x', 'y', 'z'])` do?**"
   ]
  },
  {
   "cell_type": "code",
   "execution_count": null,
   "metadata": {
    "tags": []
   },
   "outputs": [],
   "source": []
  },
  {
   "cell_type": "markdown",
   "metadata": {},
   "source": [
    "**What will the following code do? Try it out.**\n",
    "\n",
    "```python\n",
    "element = 'helium'\n",
    "print(element[-1])\n",
    "```"
   ]
  },
  {
   "cell_type": "code",
   "execution_count": null,
   "metadata": {
    "tags": []
   },
   "outputs": [],
   "source": []
  }
 ],
 "metadata": {
  "kernelspec": {
   "display_name": "Python 3",
   "language": "python",
   "name": "python3"
  },
  "language_info": {
   "codemirror_mode": {
    "name": "ipython",
    "version": 3
   },
   "file_extension": ".py",
   "mimetype": "text/x-python",
   "name": "python",
   "nbconvert_exporter": "python",
   "pygments_lexer": "ipython3",
   "version": "3.7.6"
  }
 },
 "nbformat": 4,
 "nbformat_minor": 4
}
